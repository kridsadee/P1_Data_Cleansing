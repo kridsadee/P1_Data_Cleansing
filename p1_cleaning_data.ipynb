{
 "cells": [
  {
   "cell_type": "code",
   "execution_count": 1,
   "metadata": {},
   "outputs": [
    {
     "name": "stderr",
     "output_type": "stream",
     "text": [
      "/Users/kridsadee/anaconda3/lib/python3.11/site-packages/openpyxl/worksheet/_read_only.py:79: UserWarning: Unknown extension is not supported and will be removed\n",
      "  for idx, row in parser.parse():\n"
     ]
    },
    {
     "data": {
      "text/html": [
       "<div>\n",
       "<style scoped>\n",
       "    .dataframe tbody tr th:only-of-type {\n",
       "        vertical-align: middle;\n",
       "    }\n",
       "\n",
       "    .dataframe tbody tr th {\n",
       "        vertical-align: top;\n",
       "    }\n",
       "\n",
       "    .dataframe thead th {\n",
       "        text-align: right;\n",
       "    }\n",
       "</style>\n",
       "<table border=\"1\" class=\"dataframe\">\n",
       "  <thead>\n",
       "    <tr style=\"text-align: right;\">\n",
       "      <th></th>\n",
       "      <th>Internal ID</th>\n",
       "      <th>Q1: GOING OUT?</th>\n",
       "      <th>Q2: GENDER</th>\n",
       "      <th>Q3: AGE</th>\n",
       "      <th>Q4: COUNTRY</th>\n",
       "      <th>Q5: STATE, PROVINCE, COUNTY, ETC</th>\n",
       "      <th>Q6 | 100 Grand Bar</th>\n",
       "      <th>Q6 | Anonymous brown globs that come in black and orange wrappers\\t(a.k.a. Mary Janes)</th>\n",
       "      <th>Q6 | Any full-sized candy bar</th>\n",
       "      <th>Q6 | Black Jacks</th>\n",
       "      <th>...</th>\n",
       "      <th>Q8: DESPAIR OTHER</th>\n",
       "      <th>Q9: OTHER COMMENTS</th>\n",
       "      <th>Q10: DRESS</th>\n",
       "      <th>Unnamed: 113</th>\n",
       "      <th>Q11: DAY</th>\n",
       "      <th>Q12: MEDIA [Daily Dish]</th>\n",
       "      <th>Q12: MEDIA [Science]</th>\n",
       "      <th>Q12: MEDIA [ESPN]</th>\n",
       "      <th>Q12: MEDIA [Yahoo]</th>\n",
       "      <th>Click Coordinates (x, y)</th>\n",
       "    </tr>\n",
       "  </thead>\n",
       "  <tbody>\n",
       "    <tr>\n",
       "      <th>0</th>\n",
       "      <td>90258773</td>\n",
       "      <td>NaN</td>\n",
       "      <td>NaN</td>\n",
       "      <td>NaN</td>\n",
       "      <td>NaN</td>\n",
       "      <td>NaN</td>\n",
       "      <td>NaN</td>\n",
       "      <td>NaN</td>\n",
       "      <td>NaN</td>\n",
       "      <td>NaN</td>\n",
       "      <td>...</td>\n",
       "      <td>NaN</td>\n",
       "      <td>NaN</td>\n",
       "      <td>NaN</td>\n",
       "      <td>NaN</td>\n",
       "      <td>NaN</td>\n",
       "      <td>NaN</td>\n",
       "      <td>NaN</td>\n",
       "      <td>NaN</td>\n",
       "      <td>NaN</td>\n",
       "      <td>NaN</td>\n",
       "    </tr>\n",
       "    <tr>\n",
       "      <th>1</th>\n",
       "      <td>90272821</td>\n",
       "      <td>No</td>\n",
       "      <td>Male</td>\n",
       "      <td>44</td>\n",
       "      <td>USA</td>\n",
       "      <td>NM</td>\n",
       "      <td>MEH</td>\n",
       "      <td>DESPAIR</td>\n",
       "      <td>JOY</td>\n",
       "      <td>MEH</td>\n",
       "      <td>...</td>\n",
       "      <td>NaN</td>\n",
       "      <td>Bottom line is Twix is really the only candy w...</td>\n",
       "      <td>White and gold</td>\n",
       "      <td>NaN</td>\n",
       "      <td>Sunday</td>\n",
       "      <td>NaN</td>\n",
       "      <td>1.0</td>\n",
       "      <td>NaN</td>\n",
       "      <td>NaN</td>\n",
       "      <td>(84, 25)</td>\n",
       "    </tr>\n",
       "    <tr>\n",
       "      <th>2</th>\n",
       "      <td>90272829</td>\n",
       "      <td>NaN</td>\n",
       "      <td>Male</td>\n",
       "      <td>49</td>\n",
       "      <td>USA</td>\n",
       "      <td>Virginia</td>\n",
       "      <td>NaN</td>\n",
       "      <td>NaN</td>\n",
       "      <td>NaN</td>\n",
       "      <td>NaN</td>\n",
       "      <td>...</td>\n",
       "      <td>NaN</td>\n",
       "      <td>NaN</td>\n",
       "      <td>NaN</td>\n",
       "      <td>NaN</td>\n",
       "      <td>NaN</td>\n",
       "      <td>NaN</td>\n",
       "      <td>NaN</td>\n",
       "      <td>NaN</td>\n",
       "      <td>NaN</td>\n",
       "      <td>NaN</td>\n",
       "    </tr>\n",
       "    <tr>\n",
       "      <th>3</th>\n",
       "      <td>90272840</td>\n",
       "      <td>No</td>\n",
       "      <td>Male</td>\n",
       "      <td>40</td>\n",
       "      <td>us</td>\n",
       "      <td>or</td>\n",
       "      <td>MEH</td>\n",
       "      <td>DESPAIR</td>\n",
       "      <td>JOY</td>\n",
       "      <td>MEH</td>\n",
       "      <td>...</td>\n",
       "      <td>NaN</td>\n",
       "      <td>Raisins can go to hell</td>\n",
       "      <td>White and gold</td>\n",
       "      <td>NaN</td>\n",
       "      <td>Sunday</td>\n",
       "      <td>NaN</td>\n",
       "      <td>1.0</td>\n",
       "      <td>NaN</td>\n",
       "      <td>NaN</td>\n",
       "      <td>(75, 23)</td>\n",
       "    </tr>\n",
       "    <tr>\n",
       "      <th>4</th>\n",
       "      <td>90272841</td>\n",
       "      <td>No</td>\n",
       "      <td>Male</td>\n",
       "      <td>23</td>\n",
       "      <td>usa</td>\n",
       "      <td>exton pa</td>\n",
       "      <td>JOY</td>\n",
       "      <td>DESPAIR</td>\n",
       "      <td>JOY</td>\n",
       "      <td>DESPAIR</td>\n",
       "      <td>...</td>\n",
       "      <td>NaN</td>\n",
       "      <td>NaN</td>\n",
       "      <td>White and gold</td>\n",
       "      <td>NaN</td>\n",
       "      <td>Friday</td>\n",
       "      <td>NaN</td>\n",
       "      <td>1.0</td>\n",
       "      <td>NaN</td>\n",
       "      <td>NaN</td>\n",
       "      <td>(70, 10)</td>\n",
       "    </tr>\n",
       "    <tr>\n",
       "      <th>...</th>\n",
       "      <td>...</td>\n",
       "      <td>...</td>\n",
       "      <td>...</td>\n",
       "      <td>...</td>\n",
       "      <td>...</td>\n",
       "      <td>...</td>\n",
       "      <td>...</td>\n",
       "      <td>...</td>\n",
       "      <td>...</td>\n",
       "      <td>...</td>\n",
       "      <td>...</td>\n",
       "      <td>...</td>\n",
       "      <td>...</td>\n",
       "      <td>...</td>\n",
       "      <td>...</td>\n",
       "      <td>...</td>\n",
       "      <td>...</td>\n",
       "      <td>...</td>\n",
       "      <td>...</td>\n",
       "      <td>...</td>\n",
       "      <td>...</td>\n",
       "    </tr>\n",
       "    <tr>\n",
       "      <th>2455</th>\n",
       "      <td>90314359</td>\n",
       "      <td>No</td>\n",
       "      <td>Male</td>\n",
       "      <td>24</td>\n",
       "      <td>USA</td>\n",
       "      <td>MD</td>\n",
       "      <td>JOY</td>\n",
       "      <td>DESPAIR</td>\n",
       "      <td>MEH</td>\n",
       "      <td>DESPAIR</td>\n",
       "      <td>...</td>\n",
       "      <td>Fruit Stripe Gum</td>\n",
       "      <td>NaN</td>\n",
       "      <td>White and gold</td>\n",
       "      <td>NaN</td>\n",
       "      <td>Friday</td>\n",
       "      <td>NaN</td>\n",
       "      <td>NaN</td>\n",
       "      <td>NaN</td>\n",
       "      <td>NaN</td>\n",
       "      <td>NaN</td>\n",
       "    </tr>\n",
       "    <tr>\n",
       "      <th>2456</th>\n",
       "      <td>90314580</td>\n",
       "      <td>No</td>\n",
       "      <td>Female</td>\n",
       "      <td>33</td>\n",
       "      <td>USA</td>\n",
       "      <td>New York</td>\n",
       "      <td>MEH</td>\n",
       "      <td>DESPAIR</td>\n",
       "      <td>JOY</td>\n",
       "      <td>NaN</td>\n",
       "      <td>...</td>\n",
       "      <td>Capers</td>\n",
       "      <td>NaN</td>\n",
       "      <td>Blue and black</td>\n",
       "      <td>NaN</td>\n",
       "      <td>Friday</td>\n",
       "      <td>NaN</td>\n",
       "      <td>1.0</td>\n",
       "      <td>NaN</td>\n",
       "      <td>NaN</td>\n",
       "      <td>(70, 26)</td>\n",
       "    </tr>\n",
       "    <tr>\n",
       "      <th>2457</th>\n",
       "      <td>90314634</td>\n",
       "      <td>No</td>\n",
       "      <td>Female</td>\n",
       "      <td>26</td>\n",
       "      <td>USA</td>\n",
       "      <td>Tennessee</td>\n",
       "      <td>MEH</td>\n",
       "      <td>DESPAIR</td>\n",
       "      <td>JOY</td>\n",
       "      <td>DESPAIR</td>\n",
       "      <td>...</td>\n",
       "      <td>NaN</td>\n",
       "      <td>NaN</td>\n",
       "      <td>Blue and black</td>\n",
       "      <td>NaN</td>\n",
       "      <td>Friday</td>\n",
       "      <td>NaN</td>\n",
       "      <td>1.0</td>\n",
       "      <td>NaN</td>\n",
       "      <td>NaN</td>\n",
       "      <td>(67, 35)</td>\n",
       "    </tr>\n",
       "    <tr>\n",
       "      <th>2458</th>\n",
       "      <td>90314658</td>\n",
       "      <td>No</td>\n",
       "      <td>Male</td>\n",
       "      <td>58</td>\n",
       "      <td>Usa</td>\n",
       "      <td>North Carolina</td>\n",
       "      <td>NaN</td>\n",
       "      <td>NaN</td>\n",
       "      <td>NaN</td>\n",
       "      <td>NaN</td>\n",
       "      <td>...</td>\n",
       "      <td>NaN</td>\n",
       "      <td>NaN</td>\n",
       "      <td>NaN</td>\n",
       "      <td>NaN</td>\n",
       "      <td>NaN</td>\n",
       "      <td>NaN</td>\n",
       "      <td>NaN</td>\n",
       "      <td>NaN</td>\n",
       "      <td>NaN</td>\n",
       "      <td>NaN</td>\n",
       "    </tr>\n",
       "    <tr>\n",
       "      <th>2459</th>\n",
       "      <td>90314802</td>\n",
       "      <td>No</td>\n",
       "      <td>Female</td>\n",
       "      <td>66</td>\n",
       "      <td>usa</td>\n",
       "      <td>Pennsylvania</td>\n",
       "      <td>DESPAIR</td>\n",
       "      <td>DESPAIR</td>\n",
       "      <td>JOY</td>\n",
       "      <td>DESPAIR</td>\n",
       "      <td>...</td>\n",
       "      <td>NaN</td>\n",
       "      <td>You hit all my chocolate highlights, and broug...</td>\n",
       "      <td>White and gold</td>\n",
       "      <td>NaN</td>\n",
       "      <td>Sunday</td>\n",
       "      <td>1.0</td>\n",
       "      <td>NaN</td>\n",
       "      <td>NaN</td>\n",
       "      <td>NaN</td>\n",
       "      <td>(19, 26)</td>\n",
       "    </tr>\n",
       "  </tbody>\n",
       "</table>\n",
       "<p>2460 rows × 120 columns</p>\n",
       "</div>"
      ],
      "text/plain": [
       "      Internal ID Q1: GOING OUT? Q2: GENDER Q3: AGE Q4: COUNTRY  \\\n",
       "0        90258773            NaN        NaN     NaN         NaN   \n",
       "1        90272821             No       Male      44        USA    \n",
       "2        90272829            NaN       Male      49         USA   \n",
       "3        90272840             No       Male      40          us   \n",
       "4        90272841             No       Male      23         usa   \n",
       "...           ...            ...        ...     ...         ...   \n",
       "2455     90314359             No       Male      24         USA   \n",
       "2456     90314580             No     Female      33         USA   \n",
       "2457     90314634             No     Female      26        USA    \n",
       "2458     90314658             No       Male      58         Usa   \n",
       "2459     90314802             No     Female      66         usa   \n",
       "\n",
       "     Q5: STATE, PROVINCE, COUNTY, ETC Q6 | 100 Grand Bar  \\\n",
       "0                                 NaN                NaN   \n",
       "1                                  NM                MEH   \n",
       "2                            Virginia                NaN   \n",
       "3                                  or                MEH   \n",
       "4                            exton pa                JOY   \n",
       "...                               ...                ...   \n",
       "2455                               MD                JOY   \n",
       "2456                         New York                MEH   \n",
       "2457                        Tennessee                MEH   \n",
       "2458                   North Carolina                NaN   \n",
       "2459                     Pennsylvania            DESPAIR   \n",
       "\n",
       "     Q6 | Anonymous brown globs that come in black and orange wrappers\\t(a.k.a. Mary Janes)  \\\n",
       "0                                                   NaN                                       \n",
       "1                                               DESPAIR                                       \n",
       "2                                                   NaN                                       \n",
       "3                                               DESPAIR                                       \n",
       "4                                               DESPAIR                                       \n",
       "...                                                 ...                                       \n",
       "2455                                            DESPAIR                                       \n",
       "2456                                            DESPAIR                                       \n",
       "2457                                            DESPAIR                                       \n",
       "2458                                                NaN                                       \n",
       "2459                                            DESPAIR                                       \n",
       "\n",
       "     Q6 | Any full-sized candy bar Q6 | Black Jacks  ... Q8: DESPAIR OTHER  \\\n",
       "0                              NaN              NaN  ...               NaN   \n",
       "1                              JOY              MEH  ...               NaN   \n",
       "2                              NaN              NaN  ...               NaN   \n",
       "3                              JOY              MEH  ...               NaN   \n",
       "4                              JOY          DESPAIR  ...               NaN   \n",
       "...                            ...              ...  ...               ...   \n",
       "2455                           MEH          DESPAIR  ...  Fruit Stripe Gum   \n",
       "2456                           JOY              NaN  ...            Capers   \n",
       "2457                           JOY          DESPAIR  ...               NaN   \n",
       "2458                           NaN              NaN  ...               NaN   \n",
       "2459                           JOY          DESPAIR  ...               NaN   \n",
       "\n",
       "                                     Q9: OTHER COMMENTS      Q10: DRESS  \\\n",
       "0                                                   NaN             NaN   \n",
       "1     Bottom line is Twix is really the only candy w...  White and gold   \n",
       "2                                                   NaN             NaN   \n",
       "3                                Raisins can go to hell  White and gold   \n",
       "4                                                   NaN  White and gold   \n",
       "...                                                 ...             ...   \n",
       "2455                                                NaN  White and gold   \n",
       "2456                                                NaN  Blue and black   \n",
       "2457                                                NaN  Blue and black   \n",
       "2458                                                NaN             NaN   \n",
       "2459  You hit all my chocolate highlights, and broug...  White and gold   \n",
       "\n",
       "     Unnamed: 113 Q11: DAY Q12: MEDIA [Daily Dish] Q12: MEDIA [Science]  \\\n",
       "0             NaN      NaN                     NaN                  NaN   \n",
       "1             NaN   Sunday                     NaN                  1.0   \n",
       "2             NaN      NaN                     NaN                  NaN   \n",
       "3             NaN   Sunday                     NaN                  1.0   \n",
       "4             NaN   Friday                     NaN                  1.0   \n",
       "...           ...      ...                     ...                  ...   \n",
       "2455          NaN   Friday                     NaN                  NaN   \n",
       "2456          NaN   Friday                     NaN                  1.0   \n",
       "2457          NaN   Friday                     NaN                  1.0   \n",
       "2458          NaN      NaN                     NaN                  NaN   \n",
       "2459          NaN   Sunday                     1.0                  NaN   \n",
       "\n",
       "     Q12: MEDIA [ESPN] Q12: MEDIA [Yahoo] Click Coordinates (x, y)  \n",
       "0                  NaN                NaN                      NaN  \n",
       "1                  NaN                NaN                 (84, 25)  \n",
       "2                  NaN                NaN                      NaN  \n",
       "3                  NaN                NaN                 (75, 23)  \n",
       "4                  NaN                NaN                 (70, 10)  \n",
       "...                ...                ...                      ...  \n",
       "2455               NaN                NaN                      NaN  \n",
       "2456               NaN                NaN                 (70, 26)  \n",
       "2457               NaN                NaN                 (67, 35)  \n",
       "2458               NaN                NaN                      NaN  \n",
       "2459               NaN                NaN                 (19, 26)  \n",
       "\n",
       "[2460 rows x 120 columns]"
      ]
     },
     "execution_count": 1,
     "metadata": {},
     "output_type": "execute_result"
    }
   ],
   "source": [
    "import numpy as np\n",
    "import pandas as pd\n",
    "import matplotlib.pyplot as plt\n",
    "import seaborn as sns\n",
    "%matplotlib inline\n",
    "import warnings\n",
    "\n",
    "data = pd.read_excel(\"/Users/kridsadee/Learning/candyhierarchy2017.xlsx\")\n",
    "data\n"
   ]
  },
  {
   "cell_type": "code",
   "execution_count": 2,
   "metadata": {},
   "outputs": [
    {
     "data": {
      "text/plain": [
       "['Internal ID',\n",
       " 'Q1: GOING OUT?',\n",
       " 'Q2: GENDER',\n",
       " 'Q3: AGE',\n",
       " 'Q4: COUNTRY',\n",
       " 'Q5: STATE, PROVINCE, COUNTY, ETC',\n",
       " 'Q6 | 100 Grand Bar',\n",
       " 'Q6 | Anonymous brown globs that come in black and orange wrappers\\t(a.k.a. Mary Janes)',\n",
       " 'Q6 | Any full-sized candy bar',\n",
       " 'Q6 | Black Jacks',\n",
       " 'Q6 | Bonkers (the candy)',\n",
       " 'Q6 | Bonkers (the board game)',\n",
       " 'Q6 | Bottle Caps',\n",
       " \"Q6 | Box'o'Raisins\",\n",
       " 'Q6 | Broken glow stick',\n",
       " 'Q6 | Butterfinger',\n",
       " 'Q6 | Cadbury Creme Eggs',\n",
       " 'Q6 | Candy Corn',\n",
       " 'Q6 | Candy that is clearly just the stuff given out for free at restaurants',\n",
       " 'Q6 | Caramellos',\n",
       " 'Q6 | Cash, or other forms of legal tender',\n",
       " 'Q6 | Chardonnay',\n",
       " 'Q6 | Chick-o-Sticks (we don’t know what that is)',\n",
       " 'Q6 | Chiclets',\n",
       " 'Q6 | Coffee Crisp',\n",
       " 'Q6 | Creepy Religious comics/Chick Tracts',\n",
       " 'Q6 | Dental paraphenalia',\n",
       " 'Q6 | Dots',\n",
       " 'Q6 | Dove Bars',\n",
       " 'Q6 | Fuzzy Peaches',\n",
       " 'Q6 | Generic Brand Acetaminophen',\n",
       " 'Q6 | Glow sticks',\n",
       " 'Q6 | Goo Goo Clusters',\n",
       " \"Q6 | Good N' Plenty\",\n",
       " 'Q6 | Gum from baseball cards',\n",
       " 'Q6 | Gummy Bears straight up',\n",
       " 'Q6 | Hard Candy',\n",
       " 'Q6 | Healthy Fruit',\n",
       " 'Q6 | Heath Bar',\n",
       " \"Q6 | Hershey's Dark Chocolate\",\n",
       " 'Q6 | Hershey’s Milk Chocolate',\n",
       " \"Q6 | Hershey's Kisses\",\n",
       " 'Q6 | Hugs (actual physical hugs)',\n",
       " 'Q6 | Jolly Rancher (bad flavor)',\n",
       " 'Q6 | Jolly Ranchers (good flavor)',\n",
       " 'Q6 | JoyJoy (Mit Iodine!)',\n",
       " 'Q6 | Junior Mints',\n",
       " 'Q6 | Senior Mints',\n",
       " 'Q6 | Kale smoothie',\n",
       " 'Q6 | Kinder Happy Hippo',\n",
       " 'Q6 | Kit Kat',\n",
       " 'Q6 | LaffyTaffy',\n",
       " 'Q6 | LemonHeads',\n",
       " 'Q6 | Licorice (not black)',\n",
       " 'Q6 | Licorice (yes black)',\n",
       " 'Q6 | Lindt Truffle',\n",
       " 'Q6 | Lollipops',\n",
       " 'Q6 | Mars',\n",
       " 'Q6 | Maynards',\n",
       " 'Q6 | Mike and Ike',\n",
       " 'Q6 | Milk Duds',\n",
       " 'Q6 | Milky Way',\n",
       " 'Q6 | Regular M&Ms',\n",
       " 'Q6 | Peanut M&M’s',\n",
       " \"Q6 | Blue M&M's\",\n",
       " \"Q6 | Red M&M's\",\n",
       " \"Q6 | Green Party M&M's\",\n",
       " \"Q6 | Independent M&M's\",\n",
       " \"Q6 | Abstained from M&M'ing.\",\n",
       " 'Q6 | Minibags of chips',\n",
       " 'Q6 | Mint Kisses',\n",
       " 'Q6 | Mint Juleps',\n",
       " 'Q6 | Mr. Goodbar',\n",
       " 'Q6 | Necco Wafers',\n",
       " 'Q6 | Nerds',\n",
       " 'Q6 | Nestle Crunch',\n",
       " \"Q6 | Now'n'Laters\",\n",
       " 'Q6 | Peeps',\n",
       " 'Q6 | Pencils',\n",
       " 'Q6 | Pixy Stix',\n",
       " 'Q6 | Real Housewives of Orange County Season 9 Blue-Ray',\n",
       " 'Q6 | Reese’s Peanut Butter Cups',\n",
       " \"Q6 | Reese's Pieces\",\n",
       " 'Q6 | Reggie Jackson Bar',\n",
       " 'Q6 | Rolos',\n",
       " 'Q6 | Sandwich-sized bags filled with BooBerry Crunch',\n",
       " 'Q6 | Skittles',\n",
       " 'Q6 | Smarties (American)',\n",
       " 'Q6 | Smarties (Commonwealth)',\n",
       " 'Q6 | Snickers',\n",
       " 'Q6 | Sourpatch Kids (i.e. abominations of nature)',\n",
       " 'Q6 | Spotted Dick',\n",
       " 'Q6 | Starburst',\n",
       " 'Q6 | Sweet Tarts',\n",
       " 'Q6 | Swedish Fish',\n",
       " 'Q6 | Sweetums (a friend to diabetes)',\n",
       " 'Q6 | Take 5',\n",
       " 'Q6 | Tic Tacs',\n",
       " 'Q6 | Those odd marshmallow circus peanut things',\n",
       " 'Q6 | Three Musketeers',\n",
       " 'Q6 | Tolberone something or other',\n",
       " 'Q6 | Trail Mix',\n",
       " 'Q6 | Twix',\n",
       " 'Q6 | Vials of pure high fructose corn syrup, for main-lining into your vein',\n",
       " 'Q6 | Vicodin',\n",
       " 'Q6 | Whatchamacallit Bars',\n",
       " 'Q6 | White Bread',\n",
       " 'Q6 | Whole Wheat anything',\n",
       " 'Q6 | York Peppermint Patties',\n",
       " 'Q7: JOY OTHER',\n",
       " 'Q8: DESPAIR OTHER',\n",
       " 'Q9: OTHER COMMENTS',\n",
       " 'Q10: DRESS',\n",
       " 'Unnamed: 113',\n",
       " 'Q11: DAY',\n",
       " 'Q12: MEDIA [Daily Dish]',\n",
       " 'Q12: MEDIA [Science]',\n",
       " 'Q12: MEDIA [ESPN]',\n",
       " 'Q12: MEDIA [Yahoo]',\n",
       " 'Click Coordinates (x, y)']"
      ]
     },
     "execution_count": 2,
     "metadata": {},
     "output_type": "execute_result"
    }
   ],
   "source": [
    "list(data)"
   ]
  },
  {
   "cell_type": "code",
   "execution_count": 3,
   "metadata": {},
   "outputs": [],
   "source": [
    "# Drop useless columns\n",
    "data.drop(['Unnamed: 113', 'Internal ID', 'Q9: OTHER COMMENTS', 'Click Coordinates (x, y)', 'Q8: DESPAIR OTHER', 'Q7: JOY OTHER', ], axis='columns', inplace = True)"
   ]
  },
  {
   "cell_type": "code",
   "execution_count": 4,
   "metadata": {},
   "outputs": [],
   "source": [
    "# rename columns \n",
    "new_names = {'Q1: GOING OUT?': 'going out', 'Q2: GENDER':'sex', 'Q3: AGE': 'age', \\\n",
    "    'Q4: COUNTRY': 'country', 'Q5: STATE, PROVINCE, COUNTY, ETC': 'state', \\\n",
    "    'Q10: DRESS':'dress', 'Q11: DAY':'day', 'Q12: MEDIA [Daily Dish]':'daily dish',\\\n",
    "        'Q12: MEDIA [Science]':'science', 'Q12: MEDIA [ESPN]':'espn', 'Q12: MEDIA [Yahoo]':'yahoo'}\n",
    "\n",
    "data.rename(columns = new_names, inplace=True)"
   ]
  },
  {
   "cell_type": "code",
   "execution_count": 5,
   "metadata": {},
   "outputs": [
    {
     "data": {
      "text/plain": [
       "going out      110\n",
       "sex             41\n",
       "age             84\n",
       "country         64\n",
       "state          100\n",
       "              ... \n",
       "day            725\n",
       "daily dish    2375\n",
       "science       1098\n",
       "espn          2361\n",
       "yahoo         2393\n",
       "Length: 114, dtype: int64"
      ]
     },
     "execution_count": 5,
     "metadata": {},
     "output_type": "execute_result"
    }
   ],
   "source": [
    "data.isnull().sum()"
   ]
  },
  {
   "cell_type": "markdown",
   "metadata": {},
   "source": [
    "<p style=\"font-size:30px; color:blue; font-weight: bold\" >Cleaning \"going out\"</p>"
   ]
  },
  {
   "cell_type": "code",
   "execution_count": 6,
   "metadata": {},
   "outputs": [
    {
     "data": {
      "text/plain": [
       "array([nan, 'No', 'Yes'], dtype=object)"
      ]
     },
     "execution_count": 6,
     "metadata": {},
     "output_type": "execute_result"
    }
   ],
   "source": [
    "data['going out'].unique()"
   ]
  },
  {
   "cell_type": "code",
   "execution_count": 7,
   "metadata": {},
   "outputs": [
    {
     "name": "stdout",
     "output_type": "stream",
     "text": [
      "['Maybe' 'No' 'Yes']\n"
     ]
    },
    {
     "data": {
      "text/plain": [
       "going out\n",
       "No       82.845528\n",
       "Yes      12.682927\n",
       "Maybe     4.471545\n",
       "Name: count, dtype: float64"
      ]
     },
     "execution_count": 7,
     "metadata": {},
     "output_type": "execute_result"
    }
   ],
   "source": [
    "data['going out'].fillna('Maybe', inplace=True)\n",
    "print(data['going out'].unique())\n",
    "\n",
    "data['going out'].value_counts() / data['going out'].shape * 100\n"
   ]
  },
  {
   "cell_type": "markdown",
   "metadata": {},
   "source": [
    "<p style=\"font-size:30px; color: blue; font-weight: bold;\">Cleaning \"sex\"</p>"
   ]
  },
  {
   "cell_type": "code",
   "execution_count": 8,
   "metadata": {},
   "outputs": [
    {
     "data": {
      "text/plain": [
       "array([nan, 'Male', 'Female', \"I'd rather not say\", 'Other'], dtype=object)"
      ]
     },
     "execution_count": 8,
     "metadata": {},
     "output_type": "execute_result"
    }
   ],
   "source": [
    "data['sex'].unique()"
   ]
  },
  {
   "cell_type": "code",
   "execution_count": 9,
   "metadata": {},
   "outputs": [
    {
     "name": "stdout",
     "output_type": "stream",
     "text": [
      "0\n",
      "[\"Don't say\" 'Male' 'Female']\n"
     ]
    },
    {
     "data": {
      "text/plain": [
       "sex\n",
       "Male         59.634146\n",
       "Female       34.105691\n",
       "Don't say     6.260163\n",
       "Name: count, dtype: float64"
      ]
     },
     "execution_count": 9,
     "metadata": {},
     "output_type": "execute_result"
    }
   ],
   "source": [
    "data['sex'].replace({\"I'd rather not say\":\"Don't say\", \"Other\": \"Don't say\"}, inplace=True)\n",
    "data['sex'].fillna(\"Don't say\", inplace=True)\n",
    "\n",
    "print(data['sex'].isnull().sum())\n",
    "print(data['sex'].unique())\n",
    "data['sex'].value_counts() / data['sex'].shape * 100"
   ]
  },
  {
   "cell_type": "markdown",
   "metadata": {},
   "source": [
    "<p style=\"font-size:30px; color: blue; font-weight: bold;\">Cleaning \"age\"</p>"
   ]
  },
  {
   "cell_type": "code",
   "execution_count": 10,
   "metadata": {},
   "outputs": [
    {
     "data": {
      "text/plain": [
       "array([nan, 44, 49, 40, 23, 53, 33, 43, 56, 64, 37, 59, 48, 54, 36, 45,\n",
       "       25, 34, 35, 38, 58, 50, 47, 16, 52, 63, 65, 41, 27, 31, 61, 46, 42,\n",
       "       62, 29, 39, 32, 28, 69, 67, 30, 22, 26, 51, 70, 24, 18, 19,\n",
       "       'Old enough', 57, 60, 66, 12, 'Many', 55, 72, '?', 21, 11, 'no', 9,\n",
       "       68, 20, 6, 10, 71, 90, 13, '45-55', 312, 99, 7, 'hahahahaha', 88,\n",
       "       39.4, 74, 102, 'older than dirt', 17, 15, 8, 75, '5u', 'Enough',\n",
       "       'See question 2', '24-50', 14, 'Over 50', 100, 76, 1000,\n",
       "       'sixty-nine', '46 Halloweens.', 'ancient', 77, 'OLD', 'old', 73,\n",
       "       70.5, 1, 'MY NAME JEFF', 4, '59 on the day after Halloween',\n",
       "       'old enough', 'your mom',\n",
       "       'I can remember when Java was a cool new language', '60+'],\n",
       "      dtype=object)"
      ]
     },
     "execution_count": 10,
     "metadata": {},
     "output_type": "execute_result"
    }
   ],
   "source": [
    "data['age'].unique()"
   ]
  },
  {
   "cell_type": "code",
   "execution_count": 11,
   "metadata": {},
   "outputs": [
    {
     "data": {
      "text/plain": [
       "count    2352.000000\n",
       "mean       42.617304\n",
       "std        23.846531\n",
       "min         1.000000\n",
       "25%        34.000000\n",
       "50%        41.000000\n",
       "75%        50.000000\n",
       "max      1000.000000\n",
       "Name: age, dtype: float64"
      ]
     },
     "execution_count": 11,
     "metadata": {},
     "output_type": "execute_result"
    }
   ],
   "source": [
    "data['age'] = pd.to_numeric(data['age'], errors= 'coerce')\n",
    "data['age'].fillna(np.nan, inplace=True)\n",
    "\n",
    "data['age'].describe()"
   ]
  },
  {
   "cell_type": "code",
   "execution_count": 12,
   "metadata": {},
   "outputs": [
    {
     "data": {
      "text/plain": [
       "<Axes: xlabel='age'>"
      ]
     },
     "execution_count": 12,
     "metadata": {},
     "output_type": "execute_result"
    },
    {
     "data": {
      "image/png": "[encoded data removed]",
      "text/plain": [
       "<Figure size 640x480 with 1 Axes>"
      ]
     },
     "metadata": {},
     "output_type": "display_data"
    }
   ],
   "source": [
    "sns.boxplot(x=data['age'])"
   ]
  },
  {
   "cell_type": "code",
   "execution_count": 16,
   "metadata": {},
   "outputs": [],
   "source": [
    "q1 = data['age'].quantile(0.25)\n",
    "q3 = data['age'].quantile(0.75)\n",
    "iqr = q3 - q1\n",
    "lower_bound = q1 - (1.5 * iqr)\n",
    "upper_bound = q3 + (1.5 * iqr)\n",
    "data['age'] = data['age'].apply(lambda x: np.nan if x < lower_bound or x > upper_bound else x)"
   ]
  },
  {
   "cell_type": "code",
   "execution_count": 17,
   "metadata": {},
   "outputs": [
    {
     "data": {
      "text/plain": [
       "135"
      ]
     },
     "execution_count": 17,
     "metadata": {},
     "output_type": "execute_result"
    }
   ],
   "source": [
    "data['age'].isnull().sum()"
   ]
  },
  {
   "cell_type": "code",
   "execution_count": 24,
   "metadata": {},
   "outputs": [
    {
     "name": "stdout",
     "output_type": "stream",
     "text": [
      "0\n"
     ]
    },
    {
     "data": {
      "text/plain": [
       "dtype('int64')"
      ]
     },
     "execution_count": 24,
     "metadata": {},
     "output_type": "execute_result"
    }
   ],
   "source": [
    "data['age'].fillna(data['age'].median(), inplace=True)\n",
    "data['age'] = data['age'].astype(int)\n",
    "print(data['age'].isnull().sum())\n",
    "data['age'].dtype"
   ]
  },
  {
   "cell_type": "code",
   "execution_count": 20,
   "metadata": {},
   "outputs": [
    {
     "data": {
      "text/plain": [
       "<Axes: xlabel='age'>"
      ]
     },
     "execution_count": 20,
     "metadata": {},
     "output_type": "execute_result"
    },
    {
     "data": {
      "image/png": "[encoded data removed]",
      "text/plain": [
       "<Figure size 640x480 with 1 Axes>"
      ]
     },
     "metadata": {},
     "output_type": "display_data"
    }
   ],
   "source": [
    "sns.boxplot(x=data['age'])"
   ]
  },
  {
   "cell_type": "code",
   "execution_count": 21,
   "metadata": {},
   "outputs": [
    {
     "name": "stderr",
     "output_type": "stream",
     "text": [
      "/var/folders/qf/5v3t42g14tg8cgqq_cpxtgmc0000gn/T/ipykernel_62343/422408586.py:1: FutureWarning: \n",
      "\n",
      "`shade` is now deprecated in favor of `fill`; setting `fill=True`.\n",
      "This will become an error in seaborn v0.14.0; please update your code.\n",
      "\n",
      "  sns.kdeplot(data['age'], shade=True )\n"
     ]
    },
    {
     "data": {
      "text/plain": [
       "<Axes: xlabel='age', ylabel='Density'>"
      ]
     },
     "execution_count": 21,
     "metadata": {},
     "output_type": "execute_result"
    },
    {
     "data": {
      "image/png": "[encoded data removed]",
      "text/plain": [
       "<Figure size 640x480 with 1 Axes>"
      ]
     },
     "metadata": {},
     "output_type": "display_data"
    }
   ],
   "source": [
    "sns.kdeplot(data['age'], shade=True )"
   ]
  },
  {
   "cell_type": "markdown",
   "metadata": {},
   "source": [
    "<p style=\"font-size:30px; color: blue; font-weight: bold;\">Cleaning \"country\"</p>"
   ]
  },
  {
   "cell_type": "code",
   "execution_count": 28,
   "metadata": {},
   "outputs": [
    {
     "data": {
      "text/plain": [
       "array([nan, 'USA ', 'USA', 'us', 'usa', 'canada', 'Canada', 'Us', 'US',\n",
       "       'Murica', 'United States', 'uk', 'United Kingdom', 'united states',\n",
       "       'Usa', 'United States ', 'United staes',\n",
       "       'United States of America', 'UAE', 'England', 'UK', 'canada ',\n",
       "       'Mexico', 'United states', 'u.s.a.', 'USAUSAUSA', 'america', 35,\n",
       "       'france', 'United States of America ', 'U.S.A.', 'finland',\n",
       "       'unhinged states', 'Canada ', 'united states of america',\n",
       "       'US of A', 'Unites States', 'The United States', 'North Carolina ',\n",
       "       'Unied States', 'Netherlands', 'germany', 'Europe', 'Earth', 'U S',\n",
       "       'u.s.', 'U.K. ', 'Costa Rica', 'The United States of America',\n",
       "       'unite states', 'U.S.', 46, 'cascadia', 'Australia',\n",
       "       'insanity lately', 'Greece', 'USA? Hard to tell anymore..',\n",
       "       \"'merica\", 'usas', 'Pittsburgh', 45, 'United State', 32, 'France',\n",
       "       'australia', 'A', 'Can', 'Canae', 'New York', 'Trumpistan',\n",
       "       'Ireland', 'United Sates', 'Korea', 'California', 'Japan', 'USa',\n",
       "       'South africa',\n",
       "       'I pretend to be from Canada, but I am really from the United States.',\n",
       "       'Usa ', 'Uk', 'Iceland', 'Germany', 'Canada`', 'Scotland', 'UK ',\n",
       "       'Denmark', 'United Stated', 'France ', 'Switzerland',\n",
       "       'Ahem....Amerca', 'UD', 'Scotland ', 'South Korea', 'New Jersey',\n",
       "       'CANADA', 'Indonesia', 'United ststes', 'America',\n",
       "       'The Netherlands', 'United Statss', 'endland', 'Atlantis',\n",
       "       'murrika', 'USA! USA! USA!', 'USAA', 'Alaska', 'united States ',\n",
       "       'soviet canuckistan', 'N. America', 'Singapore', 'USSA', 'China',\n",
       "       'Taiwan', 'Ireland ', 'hong kong', 'spain', 'Sweden', 'Hong Kong',\n",
       "       'U.S. ', 'Narnia', 'u s a', 'United Statea', 'united ststes', 1,\n",
       "       'subscribe to dm4uz3 on youtube', 'United kingdom',\n",
       "       'USA USA USA!!!!', \"I don't know anymore\", 'Fear and Loathing'],\n",
       "      dtype=object)"
      ]
     },
     "execution_count": 28,
     "metadata": {},
     "output_type": "execute_result"
    }
   ],
   "source": [
    "data['country'].unique()"
   ]
  },
  {
   "cell_type": "code",
   "execution_count": null,
   "metadata": {},
   "outputs": [],
   "source": []
  }
 ],
 "metadata": {
  "kernelspec": {
   "display_name": "base",
   "language": "python",
   "name": "python3"
  },
  "language_info": {
   "codemirror_mode": {
    "name": "ipython",
    "version": 3
   },
   "file_extension": ".py",
   "mimetype": "text/x-python",
   "name": "python",
   "nbconvert_exporter": "python",
   "pygments_lexer": "ipython3",
   "version": "3.11.5"
  }
 },
 "nbformat": 4,
 "nbformat_minor": 2
}
