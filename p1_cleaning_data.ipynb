{
 "cells": [
  {
   "cell_type": "code",
   "execution_count": 259,
   "metadata": {},
   "outputs": [
    {
     "name": "stderr",
     "output_type": "stream",
     "text": [
      "/Users/kridsadee/anaconda3/lib/python3.11/site-packages/openpyxl/worksheet/_read_only.py:79: UserWarning: Unknown extension is not supported and will be removed\n",
      "  for idx, row in parser.parse():\n"
     ]
    },
    {
     "data": {
      "text/html": [
       "<div>\n",
       "<style scoped>\n",
       "    .dataframe tbody tr th:only-of-type {\n",
       "        vertical-align: middle;\n",
       "    }\n",
       "\n",
       "    .dataframe tbody tr th {\n",
       "        vertical-align: top;\n",
       "    }\n",
       "\n",
       "    .dataframe thead th {\n",
       "        text-align: right;\n",
       "    }\n",
       "</style>\n",
       "<table border=\"1\" class=\"dataframe\">\n",
       "  <thead>\n",
       "    <tr style=\"text-align: right;\">\n",
       "      <th></th>\n",
       "      <th>Internal ID</th>\n",
       "      <th>Q1: GOING OUT?</th>\n",
       "      <th>Q2: GENDER</th>\n",
       "      <th>Q3: AGE</th>\n",
       "      <th>Q4: COUNTRY</th>\n",
       "      <th>Q5: STATE, PROVINCE, COUNTY, ETC</th>\n",
       "      <th>Q6 | 100 Grand Bar</th>\n",
       "      <th>Q6 | Anonymous brown globs that come in black and orange wrappers\\t(a.k.a. Mary Janes)</th>\n",
       "      <th>Q6 | Any full-sized candy bar</th>\n",
       "      <th>Q6 | Black Jacks</th>\n",
       "      <th>...</th>\n",
       "      <th>Q8: DESPAIR OTHER</th>\n",
       "      <th>Q9: OTHER COMMENTS</th>\n",
       "      <th>Q10: DRESS</th>\n",
       "      <th>Unnamed: 113</th>\n",
       "      <th>Q11: DAY</th>\n",
       "      <th>Q12: MEDIA [Daily Dish]</th>\n",
       "      <th>Q12: MEDIA [Science]</th>\n",
       "      <th>Q12: MEDIA [ESPN]</th>\n",
       "      <th>Q12: MEDIA [Yahoo]</th>\n",
       "      <th>Click Coordinates (x, y)</th>\n",
       "    </tr>\n",
       "  </thead>\n",
       "  <tbody>\n",
       "    <tr>\n",
       "      <th>0</th>\n",
       "      <td>90258773</td>\n",
       "      <td>NaN</td>\n",
       "      <td>NaN</td>\n",
       "      <td>NaN</td>\n",
       "      <td>NaN</td>\n",
       "      <td>NaN</td>\n",
       "      <td>NaN</td>\n",
       "      <td>NaN</td>\n",
       "      <td>NaN</td>\n",
       "      <td>NaN</td>\n",
       "      <td>...</td>\n",
       "      <td>NaN</td>\n",
       "      <td>NaN</td>\n",
       "      <td>NaN</td>\n",
       "      <td>NaN</td>\n",
       "      <td>NaN</td>\n",
       "      <td>NaN</td>\n",
       "      <td>NaN</td>\n",
       "      <td>NaN</td>\n",
       "      <td>NaN</td>\n",
       "      <td>NaN</td>\n",
       "    </tr>\n",
       "    <tr>\n",
       "      <th>1</th>\n",
       "      <td>90272821</td>\n",
       "      <td>No</td>\n",
       "      <td>Male</td>\n",
       "      <td>44</td>\n",
       "      <td>USA</td>\n",
       "      <td>NM</td>\n",
       "      <td>MEH</td>\n",
       "      <td>DESPAIR</td>\n",
       "      <td>JOY</td>\n",
       "      <td>MEH</td>\n",
       "      <td>...</td>\n",
       "      <td>NaN</td>\n",
       "      <td>Bottom line is Twix is really the only candy w...</td>\n",
       "      <td>White and gold</td>\n",
       "      <td>NaN</td>\n",
       "      <td>Sunday</td>\n",
       "      <td>NaN</td>\n",
       "      <td>1.0</td>\n",
       "      <td>NaN</td>\n",
       "      <td>NaN</td>\n",
       "      <td>(84, 25)</td>\n",
       "    </tr>\n",
       "    <tr>\n",
       "      <th>2</th>\n",
       "      <td>90272829</td>\n",
       "      <td>NaN</td>\n",
       "      <td>Male</td>\n",
       "      <td>49</td>\n",
       "      <td>USA</td>\n",
       "      <td>Virginia</td>\n",
       "      <td>NaN</td>\n",
       "      <td>NaN</td>\n",
       "      <td>NaN</td>\n",
       "      <td>NaN</td>\n",
       "      <td>...</td>\n",
       "      <td>NaN</td>\n",
       "      <td>NaN</td>\n",
       "      <td>NaN</td>\n",
       "      <td>NaN</td>\n",
       "      <td>NaN</td>\n",
       "      <td>NaN</td>\n",
       "      <td>NaN</td>\n",
       "      <td>NaN</td>\n",
       "      <td>NaN</td>\n",
       "      <td>NaN</td>\n",
       "    </tr>\n",
       "    <tr>\n",
       "      <th>3</th>\n",
       "      <td>90272840</td>\n",
       "      <td>No</td>\n",
       "      <td>Male</td>\n",
       "      <td>40</td>\n",
       "      <td>us</td>\n",
       "      <td>or</td>\n",
       "      <td>MEH</td>\n",
       "      <td>DESPAIR</td>\n",
       "      <td>JOY</td>\n",
       "      <td>MEH</td>\n",
       "      <td>...</td>\n",
       "      <td>NaN</td>\n",
       "      <td>Raisins can go to hell</td>\n",
       "      <td>White and gold</td>\n",
       "      <td>NaN</td>\n",
       "      <td>Sunday</td>\n",
       "      <td>NaN</td>\n",
       "      <td>1.0</td>\n",
       "      <td>NaN</td>\n",
       "      <td>NaN</td>\n",
       "      <td>(75, 23)</td>\n",
       "    </tr>\n",
       "    <tr>\n",
       "      <th>4</th>\n",
       "      <td>90272841</td>\n",
       "      <td>No</td>\n",
       "      <td>Male</td>\n",
       "      <td>23</td>\n",
       "      <td>usa</td>\n",
       "      <td>exton pa</td>\n",
       "      <td>JOY</td>\n",
       "      <td>DESPAIR</td>\n",
       "      <td>JOY</td>\n",
       "      <td>DESPAIR</td>\n",
       "      <td>...</td>\n",
       "      <td>NaN</td>\n",
       "      <td>NaN</td>\n",
       "      <td>White and gold</td>\n",
       "      <td>NaN</td>\n",
       "      <td>Friday</td>\n",
       "      <td>NaN</td>\n",
       "      <td>1.0</td>\n",
       "      <td>NaN</td>\n",
       "      <td>NaN</td>\n",
       "      <td>(70, 10)</td>\n",
       "    </tr>\n",
       "    <tr>\n",
       "      <th>...</th>\n",
       "      <td>...</td>\n",
       "      <td>...</td>\n",
       "      <td>...</td>\n",
       "      <td>...</td>\n",
       "      <td>...</td>\n",
       "      <td>...</td>\n",
       "      <td>...</td>\n",
       "      <td>...</td>\n",
       "      <td>...</td>\n",
       "      <td>...</td>\n",
       "      <td>...</td>\n",
       "      <td>...</td>\n",
       "      <td>...</td>\n",
       "      <td>...</td>\n",
       "      <td>...</td>\n",
       "      <td>...</td>\n",
       "      <td>...</td>\n",
       "      <td>...</td>\n",
       "      <td>...</td>\n",
       "      <td>...</td>\n",
       "      <td>...</td>\n",
       "    </tr>\n",
       "    <tr>\n",
       "      <th>2455</th>\n",
       "      <td>90314359</td>\n",
       "      <td>No</td>\n",
       "      <td>Male</td>\n",
       "      <td>24</td>\n",
       "      <td>USA</td>\n",
       "      <td>MD</td>\n",
       "      <td>JOY</td>\n",
       "      <td>DESPAIR</td>\n",
       "      <td>MEH</td>\n",
       "      <td>DESPAIR</td>\n",
       "      <td>...</td>\n",
       "      <td>Fruit Stripe Gum</td>\n",
       "      <td>NaN</td>\n",
       "      <td>White and gold</td>\n",
       "      <td>NaN</td>\n",
       "      <td>Friday</td>\n",
       "      <td>NaN</td>\n",
       "      <td>NaN</td>\n",
       "      <td>NaN</td>\n",
       "      <td>NaN</td>\n",
       "      <td>NaN</td>\n",
       "    </tr>\n",
       "    <tr>\n",
       "      <th>2456</th>\n",
       "      <td>90314580</td>\n",
       "      <td>No</td>\n",
       "      <td>Female</td>\n",
       "      <td>33</td>\n",
       "      <td>USA</td>\n",
       "      <td>New York</td>\n",
       "      <td>MEH</td>\n",
       "      <td>DESPAIR</td>\n",
       "      <td>JOY</td>\n",
       "      <td>NaN</td>\n",
       "      <td>...</td>\n",
       "      <td>Capers</td>\n",
       "      <td>NaN</td>\n",
       "      <td>Blue and black</td>\n",
       "      <td>NaN</td>\n",
       "      <td>Friday</td>\n",
       "      <td>NaN</td>\n",
       "      <td>1.0</td>\n",
       "      <td>NaN</td>\n",
       "      <td>NaN</td>\n",
       "      <td>(70, 26)</td>\n",
       "    </tr>\n",
       "    <tr>\n",
       "      <th>2457</th>\n",
       "      <td>90314634</td>\n",
       "      <td>No</td>\n",
       "      <td>Female</td>\n",
       "      <td>26</td>\n",
       "      <td>USA</td>\n",
       "      <td>Tennessee</td>\n",
       "      <td>MEH</td>\n",
       "      <td>DESPAIR</td>\n",
       "      <td>JOY</td>\n",
       "      <td>DESPAIR</td>\n",
       "      <td>...</td>\n",
       "      <td>NaN</td>\n",
       "      <td>NaN</td>\n",
       "      <td>Blue and black</td>\n",
       "      <td>NaN</td>\n",
       "      <td>Friday</td>\n",
       "      <td>NaN</td>\n",
       "      <td>1.0</td>\n",
       "      <td>NaN</td>\n",
       "      <td>NaN</td>\n",
       "      <td>(67, 35)</td>\n",
       "    </tr>\n",
       "    <tr>\n",
       "      <th>2458</th>\n",
       "      <td>90314658</td>\n",
       "      <td>No</td>\n",
       "      <td>Male</td>\n",
       "      <td>58</td>\n",
       "      <td>Usa</td>\n",
       "      <td>North Carolina</td>\n",
       "      <td>NaN</td>\n",
       "      <td>NaN</td>\n",
       "      <td>NaN</td>\n",
       "      <td>NaN</td>\n",
       "      <td>...</td>\n",
       "      <td>NaN</td>\n",
       "      <td>NaN</td>\n",
       "      <td>NaN</td>\n",
       "      <td>NaN</td>\n",
       "      <td>NaN</td>\n",
       "      <td>NaN</td>\n",
       "      <td>NaN</td>\n",
       "      <td>NaN</td>\n",
       "      <td>NaN</td>\n",
       "      <td>NaN</td>\n",
       "    </tr>\n",
       "    <tr>\n",
       "      <th>2459</th>\n",
       "      <td>90314802</td>\n",
       "      <td>No</td>\n",
       "      <td>Female</td>\n",
       "      <td>66</td>\n",
       "      <td>usa</td>\n",
       "      <td>Pennsylvania</td>\n",
       "      <td>DESPAIR</td>\n",
       "      <td>DESPAIR</td>\n",
       "      <td>JOY</td>\n",
       "      <td>DESPAIR</td>\n",
       "      <td>...</td>\n",
       "      <td>NaN</td>\n",
       "      <td>You hit all my chocolate highlights, and broug...</td>\n",
       "      <td>White and gold</td>\n",
       "      <td>NaN</td>\n",
       "      <td>Sunday</td>\n",
       "      <td>1.0</td>\n",
       "      <td>NaN</td>\n",
       "      <td>NaN</td>\n",
       "      <td>NaN</td>\n",
       "      <td>(19, 26)</td>\n",
       "    </tr>\n",
       "  </tbody>\n",
       "</table>\n",
       "<p>2460 rows × 120 columns</p>\n",
       "</div>"
      ],
      "text/plain": [
       "      Internal ID Q1: GOING OUT? Q2: GENDER Q3: AGE Q4: COUNTRY  \\\n",
       "0        90258773            NaN        NaN     NaN         NaN   \n",
       "1        90272821             No       Male      44        USA    \n",
       "2        90272829            NaN       Male      49         USA   \n",
       "3        90272840             No       Male      40          us   \n",
       "4        90272841             No       Male      23         usa   \n",
       "...           ...            ...        ...     ...         ...   \n",
       "2455     90314359             No       Male      24         USA   \n",
       "2456     90314580             No     Female      33         USA   \n",
       "2457     90314634             No     Female      26        USA    \n",
       "2458     90314658             No       Male      58         Usa   \n",
       "2459     90314802             No     Female      66         usa   \n",
       "\n",
       "     Q5: STATE, PROVINCE, COUNTY, ETC Q6 | 100 Grand Bar  \\\n",
       "0                                 NaN                NaN   \n",
       "1                                  NM                MEH   \n",
       "2                            Virginia                NaN   \n",
       "3                                  or                MEH   \n",
       "4                            exton pa                JOY   \n",
       "...                               ...                ...   \n",
       "2455                               MD                JOY   \n",
       "2456                         New York                MEH   \n",
       "2457                        Tennessee                MEH   \n",
       "2458                   North Carolina                NaN   \n",
       "2459                     Pennsylvania            DESPAIR   \n",
       "\n",
       "     Q6 | Anonymous brown globs that come in black and orange wrappers\\t(a.k.a. Mary Janes)  \\\n",
       "0                                                   NaN                                       \n",
       "1                                               DESPAIR                                       \n",
       "2                                                   NaN                                       \n",
       "3                                               DESPAIR                                       \n",
       "4                                               DESPAIR                                       \n",
       "...                                                 ...                                       \n",
       "2455                                            DESPAIR                                       \n",
       "2456                                            DESPAIR                                       \n",
       "2457                                            DESPAIR                                       \n",
       "2458                                                NaN                                       \n",
       "2459                                            DESPAIR                                       \n",
       "\n",
       "     Q6 | Any full-sized candy bar Q6 | Black Jacks  ... Q8: DESPAIR OTHER  \\\n",
       "0                              NaN              NaN  ...               NaN   \n",
       "1                              JOY              MEH  ...               NaN   \n",
       "2                              NaN              NaN  ...               NaN   \n",
       "3                              JOY              MEH  ...               NaN   \n",
       "4                              JOY          DESPAIR  ...               NaN   \n",
       "...                            ...              ...  ...               ...   \n",
       "2455                           MEH          DESPAIR  ...  Fruit Stripe Gum   \n",
       "2456                           JOY              NaN  ...            Capers   \n",
       "2457                           JOY          DESPAIR  ...               NaN   \n",
       "2458                           NaN              NaN  ...               NaN   \n",
       "2459                           JOY          DESPAIR  ...               NaN   \n",
       "\n",
       "                                     Q9: OTHER COMMENTS      Q10: DRESS  \\\n",
       "0                                                   NaN             NaN   \n",
       "1     Bottom line is Twix is really the only candy w...  White and gold   \n",
       "2                                                   NaN             NaN   \n",
       "3                                Raisins can go to hell  White and gold   \n",
       "4                                                   NaN  White and gold   \n",
       "...                                                 ...             ...   \n",
       "2455                                                NaN  White and gold   \n",
       "2456                                                NaN  Blue and black   \n",
       "2457                                                NaN  Blue and black   \n",
       "2458                                                NaN             NaN   \n",
       "2459  You hit all my chocolate highlights, and broug...  White and gold   \n",
       "\n",
       "     Unnamed: 113 Q11: DAY Q12: MEDIA [Daily Dish] Q12: MEDIA [Science]  \\\n",
       "0             NaN      NaN                     NaN                  NaN   \n",
       "1             NaN   Sunday                     NaN                  1.0   \n",
       "2             NaN      NaN                     NaN                  NaN   \n",
       "3             NaN   Sunday                     NaN                  1.0   \n",
       "4             NaN   Friday                     NaN                  1.0   \n",
       "...           ...      ...                     ...                  ...   \n",
       "2455          NaN   Friday                     NaN                  NaN   \n",
       "2456          NaN   Friday                     NaN                  1.0   \n",
       "2457          NaN   Friday                     NaN                  1.0   \n",
       "2458          NaN      NaN                     NaN                  NaN   \n",
       "2459          NaN   Sunday                     1.0                  NaN   \n",
       "\n",
       "     Q12: MEDIA [ESPN] Q12: MEDIA [Yahoo] Click Coordinates (x, y)  \n",
       "0                  NaN                NaN                      NaN  \n",
       "1                  NaN                NaN                 (84, 25)  \n",
       "2                  NaN                NaN                      NaN  \n",
       "3                  NaN                NaN                 (75, 23)  \n",
       "4                  NaN                NaN                 (70, 10)  \n",
       "...                ...                ...                      ...  \n",
       "2455               NaN                NaN                      NaN  \n",
       "2456               NaN                NaN                 (70, 26)  \n",
       "2457               NaN                NaN                 (67, 35)  \n",
       "2458               NaN                NaN                      NaN  \n",
       "2459               NaN                NaN                 (19, 26)  \n",
       "\n",
       "[2460 rows x 120 columns]"
      ]
     },
     "execution_count": 259,
     "metadata": {},
     "output_type": "execute_result"
    }
   ],
   "source": [
    "import numpy as np\n",
    "import pandas as pd\n",
    "import matplotlib.pyplot as plt\n",
    "import seaborn as sns\n",
    "%matplotlib inline\n",
    "import warnings\n",
    "\n",
    "data = pd.read_excel(\"./candyhierarchy2017.xlsx\")\n",
    "data \n"
   ]
  },
  {
   "cell_type": "code",
   "execution_count": 260,
   "metadata": {},
   "outputs": [
    {
     "data": {
      "text/plain": [
       "['Internal ID',\n",
       " 'Q1: GOING OUT?',\n",
       " 'Q2: GENDER',\n",
       " 'Q3: AGE',\n",
       " 'Q4: COUNTRY',\n",
       " 'Q5: STATE, PROVINCE, COUNTY, ETC',\n",
       " 'Q6 | 100 Grand Bar',\n",
       " 'Q6 | Anonymous brown globs that come in black and orange wrappers\\t(a.k.a. Mary Janes)',\n",
       " 'Q6 | Any full-sized candy bar',\n",
       " 'Q6 | Black Jacks',\n",
       " 'Q6 | Bonkers (the candy)',\n",
       " 'Q6 | Bonkers (the board game)',\n",
       " 'Q6 | Bottle Caps',\n",
       " \"Q6 | Box'o'Raisins\",\n",
       " 'Q6 | Broken glow stick',\n",
       " 'Q6 | Butterfinger',\n",
       " 'Q6 | Cadbury Creme Eggs',\n",
       " 'Q6 | Candy Corn',\n",
       " 'Q6 | Candy that is clearly just the stuff given out for free at restaurants',\n",
       " 'Q6 | Caramellos',\n",
       " 'Q6 | Cash, or other forms of legal tender',\n",
       " 'Q6 | Chardonnay',\n",
       " 'Q6 | Chick-o-Sticks (we don’t know what that is)',\n",
       " 'Q6 | Chiclets',\n",
       " 'Q6 | Coffee Crisp',\n",
       " 'Q6 | Creepy Religious comics/Chick Tracts',\n",
       " 'Q6 | Dental paraphenalia',\n",
       " 'Q6 | Dots',\n",
       " 'Q6 | Dove Bars',\n",
       " 'Q6 | Fuzzy Peaches',\n",
       " 'Q6 | Generic Brand Acetaminophen',\n",
       " 'Q6 | Glow sticks',\n",
       " 'Q6 | Goo Goo Clusters',\n",
       " \"Q6 | Good N' Plenty\",\n",
       " 'Q6 | Gum from baseball cards',\n",
       " 'Q6 | Gummy Bears straight up',\n",
       " 'Q6 | Hard Candy',\n",
       " 'Q6 | Healthy Fruit',\n",
       " 'Q6 | Heath Bar',\n",
       " \"Q6 | Hershey's Dark Chocolate\",\n",
       " 'Q6 | Hershey’s Milk Chocolate',\n",
       " \"Q6 | Hershey's Kisses\",\n",
       " 'Q6 | Hugs (actual physical hugs)',\n",
       " 'Q6 | Jolly Rancher (bad flavor)',\n",
       " 'Q6 | Jolly Ranchers (good flavor)',\n",
       " 'Q6 | JoyJoy (Mit Iodine!)',\n",
       " 'Q6 | Junior Mints',\n",
       " 'Q6 | Senior Mints',\n",
       " 'Q6 | Kale smoothie',\n",
       " 'Q6 | Kinder Happy Hippo',\n",
       " 'Q6 | Kit Kat',\n",
       " 'Q6 | LaffyTaffy',\n",
       " 'Q6 | LemonHeads',\n",
       " 'Q6 | Licorice (not black)',\n",
       " 'Q6 | Licorice (yes black)',\n",
       " 'Q6 | Lindt Truffle',\n",
       " 'Q6 | Lollipops',\n",
       " 'Q6 | Mars',\n",
       " 'Q6 | Maynards',\n",
       " 'Q6 | Mike and Ike',\n",
       " 'Q6 | Milk Duds',\n",
       " 'Q6 | Milky Way',\n",
       " 'Q6 | Regular M&Ms',\n",
       " 'Q6 | Peanut M&M’s',\n",
       " \"Q6 | Blue M&M's\",\n",
       " \"Q6 | Red M&M's\",\n",
       " \"Q6 | Green Party M&M's\",\n",
       " \"Q6 | Independent M&M's\",\n",
       " \"Q6 | Abstained from M&M'ing.\",\n",
       " 'Q6 | Minibags of chips',\n",
       " 'Q6 | Mint Kisses',\n",
       " 'Q6 | Mint Juleps',\n",
       " 'Q6 | Mr. Goodbar',\n",
       " 'Q6 | Necco Wafers',\n",
       " 'Q6 | Nerds',\n",
       " 'Q6 | Nestle Crunch',\n",
       " \"Q6 | Now'n'Laters\",\n",
       " 'Q6 | Peeps',\n",
       " 'Q6 | Pencils',\n",
       " 'Q6 | Pixy Stix',\n",
       " 'Q6 | Real Housewives of Orange County Season 9 Blue-Ray',\n",
       " 'Q6 | Reese’s Peanut Butter Cups',\n",
       " \"Q6 | Reese's Pieces\",\n",
       " 'Q6 | Reggie Jackson Bar',\n",
       " 'Q6 | Rolos',\n",
       " 'Q6 | Sandwich-sized bags filled with BooBerry Crunch',\n",
       " 'Q6 | Skittles',\n",
       " 'Q6 | Smarties (American)',\n",
       " 'Q6 | Smarties (Commonwealth)',\n",
       " 'Q6 | Snickers',\n",
       " 'Q6 | Sourpatch Kids (i.e. abominations of nature)',\n",
       " 'Q6 | Spotted Dick',\n",
       " 'Q6 | Starburst',\n",
       " 'Q6 | Sweet Tarts',\n",
       " 'Q6 | Swedish Fish',\n",
       " 'Q6 | Sweetums (a friend to diabetes)',\n",
       " 'Q6 | Take 5',\n",
       " 'Q6 | Tic Tacs',\n",
       " 'Q6 | Those odd marshmallow circus peanut things',\n",
       " 'Q6 | Three Musketeers',\n",
       " 'Q6 | Tolberone something or other',\n",
       " 'Q6 | Trail Mix',\n",
       " 'Q6 | Twix',\n",
       " 'Q6 | Vials of pure high fructose corn syrup, for main-lining into your vein',\n",
       " 'Q6 | Vicodin',\n",
       " 'Q6 | Whatchamacallit Bars',\n",
       " 'Q6 | White Bread',\n",
       " 'Q6 | Whole Wheat anything',\n",
       " 'Q6 | York Peppermint Patties',\n",
       " 'Q7: JOY OTHER',\n",
       " 'Q8: DESPAIR OTHER',\n",
       " 'Q9: OTHER COMMENTS',\n",
       " 'Q10: DRESS',\n",
       " 'Unnamed: 113',\n",
       " 'Q11: DAY',\n",
       " 'Q12: MEDIA [Daily Dish]',\n",
       " 'Q12: MEDIA [Science]',\n",
       " 'Q12: MEDIA [ESPN]',\n",
       " 'Q12: MEDIA [Yahoo]',\n",
       " 'Click Coordinates (x, y)']"
      ]
     },
     "execution_count": 260,
     "metadata": {},
     "output_type": "execute_result"
    }
   ],
   "source": [
    "list(data)"
   ]
  },
  {
   "cell_type": "code",
   "execution_count": 261,
   "metadata": {},
   "outputs": [],
   "source": [
    "# Drop useless columns\n",
    "data.drop(['Unnamed: 113', 'Internal ID', 'Q9: OTHER COMMENTS', 'Click Coordinates (x, y)', 'Q8: DESPAIR OTHER', 'Q7: JOY OTHER', ], axis='columns', inplace = True)"
   ]
  },
  {
   "cell_type": "code",
   "execution_count": 262,
   "metadata": {},
   "outputs": [],
   "source": [
    "# rename columns \n",
    "new_names = {'Q1: GOING OUT?': 'going out', 'Q2: GENDER':'sex', 'Q3: AGE': 'age', \\\n",
    "    'Q4: COUNTRY': 'country', 'Q5: STATE, PROVINCE, COUNTY, ETC': 'state', \\\n",
    "    'Q10: DRESS':'dress', 'Q11: DAY':'day', 'Q12: MEDIA [Daily Dish]':'daily dish',\\\n",
    "        'Q12: MEDIA [Science]':'science', 'Q12: MEDIA [ESPN]':'espn', 'Q12: MEDIA [Yahoo]':'yahoo'}\n",
    "\n",
    "data.rename(columns = new_names, inplace=True)"
   ]
  },
  {
   "cell_type": "code",
   "execution_count": 263,
   "metadata": {},
   "outputs": [
    {
     "data": {
      "text/plain": [
       "(2460, 114)"
      ]
     },
     "execution_count": 263,
     "metadata": {},
     "output_type": "execute_result"
    }
   ],
   "source": [
    "data.shape"
   ]
  },
  {
   "cell_type": "code",
   "execution_count": 264,
   "metadata": {},
   "outputs": [
    {
     "data": {
      "text/plain": [
       "going out                                                                                  110\n",
       "sex                                                                                         41\n",
       "age                                                                                         84\n",
       "country                                                                                     64\n",
       "state                                                                                      100\n",
       "Q6 | 100 Grand Bar                                                                         747\n",
       "Q6 | Anonymous brown globs that come in black and orange wrappers\\t(a.k.a. Mary Janes)     734\n",
       "Q6 | Any full-sized candy bar                                                              672\n",
       "Q6 | Black Jacks                                                                           958\n",
       "Q6 | Bonkers (the candy)                                                                   992\n",
       "Q6 | Bonkers (the board game)                                                             1006\n",
       "Q6 | Bottle Caps                                                                           765\n",
       "Q6 | Box'o'Raisins                                                                         688\n",
       "Q6 | Broken glow stick                                                                     706\n",
       "Q6 | Butterfinger                                                                          682\n",
       "Q6 | Cadbury Creme Eggs                                                                    683\n",
       "Q6 | Candy Corn                                                                            678\n",
       "Q6 | Candy that is clearly just the stuff given out for free at restaurants                691\n",
       "Q6 | Caramellos                                                                            752\n",
       "Q6 | Cash, or other forms of legal tender                                                  680\n",
       "Q6 | Chardonnay                                                                            743\n",
       "Q6 | Chick-o-Sticks (we don’t know what that is)                                           946\n",
       "Q6 | Chiclets                                                                              711\n",
       "Q6 | Coffee Crisp                                                                          853\n",
       "Q6 | Creepy Religious comics/Chick Tracts                                                  704\n",
       "Q6 | Dental paraphenalia                                                                   692\n",
       "Q6 | Dots                                                                                  729\n",
       "Q6 | Dove Bars                                                                             702\n",
       "Q6 | Fuzzy Peaches                                                                         823\n",
       "Q6 | Generic Brand Acetaminophen                                                           731\n",
       "Q6 | Glow sticks                                                                           697\n",
       "Q6 | Goo Goo Clusters                                                                      879\n",
       "Q6 | Good N' Plenty                                                                        734\n",
       "Q6 | Gum from baseball cards                                                               716\n",
       "Q6 | Gummy Bears straight up                                                               697\n",
       "Q6 | Hard Candy                                                                            695\n",
       "Q6 | Healthy Fruit                                                                         694\n",
       "Q6 | Heath Bar                                                                             712\n",
       "Q6 | Hershey's Dark Chocolate                                                              673\n",
       "Q6 | Hershey’s Milk Chocolate                                                              672\n",
       "Q6 | Hershey's Kisses                                                                      678\n",
       "Q6 | Hugs (actual physical hugs)                                                           713\n",
       "Q6 | Jolly Rancher (bad flavor)                                                            694\n",
       "Q6 | Jolly Ranchers (good flavor)                                                          695\n",
       "Q6 | JoyJoy (Mit Iodine!)                                                                 1026\n",
       "Q6 | Junior Mints                                                                          698\n",
       "Q6 | Senior Mints                                                                          942\n",
       "Q6 | Kale smoothie                                                                         744\n",
       "Q6 | Kinder Happy Hippo                                                                    945\n",
       "Q6 | Kit Kat                                                                               674\n",
       "Q6 | LaffyTaffy                                                                            736\n",
       "Q6 | LemonHeads                                                                            730\n",
       "Q6 | Licorice (not black)                                                                  686\n",
       "Q6 | Licorice (yes black)                                                                  685\n",
       "Q6 | Lindt Truffle                                                                         718\n",
       "Q6 | Lollipops                                                                             691\n",
       "Q6 | Mars                                                                                  725\n",
       "Q6 | Maynards                                                                             1024\n",
       "Q6 | Mike and Ike                                                                          729\n",
       "Q6 | Milk Duds                                                                             693\n",
       "dtype: int64"
      ]
     },
     "execution_count": 264,
     "metadata": {},
     "output_type": "execute_result"
    }
   ],
   "source": [
    "# checking how many missing in each columns (scrollable element not show that why I use .head(60))\n",
    "data.isnull().sum().head(60)"
   ]
  },
  {
   "cell_type": "code",
   "execution_count": 265,
   "metadata": {},
   "outputs": [
    {
     "data": {
      "text/plain": [
       "Q6 | Lindt Truffle                                                              718\n",
       "Q6 | Lollipops                                                                  691\n",
       "Q6 | Mars                                                                       725\n",
       "Q6 | Maynards                                                                  1024\n",
       "Q6 | Mike and Ike                                                               729\n",
       "Q6 | Milk Duds                                                                  693\n",
       "Q6 | Milky Way                                                                  688\n",
       "Q6 | Regular M&Ms                                                               675\n",
       "Q6 | Peanut M&M’s                                                               671\n",
       "Q6 | Blue M&M's                                                                 727\n",
       "Q6 | Red M&M's                                                                  729\n",
       "Q6 | Green Party M&M's                                                          764\n",
       "Q6 | Independent M&M's                                                          813\n",
       "Q6 | Abstained from M&M'ing.                                                    942\n",
       "Q6 | Minibags of chips                                                          724\n",
       "Q6 | Mint Kisses                                                                776\n",
       "Q6 | Mint Juleps                                                                811\n",
       "Q6 | Mr. Goodbar                                                                740\n",
       "Q6 | Necco Wafers                                                               744\n",
       "Q6 | Nerds                                                                      723\n",
       "Q6 | Nestle Crunch                                                              698\n",
       "Q6 | Now'n'Laters                                                               817\n",
       "Q6 | Peeps                                                                      710\n",
       "Q6 | Pencils                                                                    709\n",
       "Q6 | Pixy Stix                                                                  722\n",
       "Q6 | Real Housewives of Orange County Season 9 Blue-Ray                         753\n",
       "Q6 | Reese’s Peanut Butter Cups                                                 679\n",
       "Q6 | Reese's Pieces                                                             691\n",
       "Q6 | Reggie Jackson Bar                                                        1014\n",
       "Q6 | Rolos                                                                      714\n",
       "Q6 | Sandwich-sized bags filled with BooBerry Crunch                            776\n",
       "Q6 | Skittles                                                                   706\n",
       "Q6 | Smarties (American)                                                        725\n",
       "Q6 | Smarties (Commonwealth)                                                    901\n",
       "Q6 | Snickers                                                                   690\n",
       "Q6 | Sourpatch Kids (i.e. abominations of nature)                               738\n",
       "Q6 | Spotted Dick                                                               882\n",
       "Q6 | Starburst                                                                  693\n",
       "Q6 | Sweet Tarts                                                                708\n",
       "Q6 | Swedish Fish                                                               715\n",
       "Q6 | Sweetums (a friend to diabetes)                                           1002\n",
       "Q6 | Take 5                                                                     917\n",
       "Q6 | Tic Tacs                                                                   714\n",
       "Q6 | Those odd marshmallow circus peanut things                                 736\n",
       "Q6 | Three Musketeers                                                           708\n",
       "Q6 | Tolberone something or other                                               706\n",
       "Q6 | Trail Mix                                                                  708\n",
       "Q6 | Twix                                                                       690\n",
       "Q6 | Vials of pure high fructose corn syrup, for main-lining into your vein     792\n",
       "Q6 | Vicodin                                                                    789\n",
       "Q6 | Whatchamacallit Bars                                                       823\n",
       "Q6 | White Bread                                                                757\n",
       "Q6 | Whole Wheat anything                                                       747\n",
       "Q6 | York Peppermint Patties                                                    705\n",
       "dress                                                                           744\n",
       "day                                                                             725\n",
       "daily dish                                                                     2375\n",
       "science                                                                        1098\n",
       "espn                                                                           2361\n",
       "yahoo                                                                          2393\n",
       "dtype: int64"
      ]
     },
     "execution_count": 265,
     "metadata": {},
     "output_type": "execute_result"
    }
   ],
   "source": [
    "data.isnull().sum().tail(60)"
   ]
  },
  {
   "cell_type": "markdown",
   "metadata": {},
   "source": [
    "<p style=\"font-size:30px; color:blue; font-weight: bold\" >Cleaning \"going out\"</p>"
   ]
  },
  {
   "cell_type": "code",
   "execution_count": 266,
   "metadata": {},
   "outputs": [
    {
     "data": {
      "text/plain": [
       "array([nan, 'No', 'Yes'], dtype=object)"
      ]
     },
     "execution_count": 266,
     "metadata": {},
     "output_type": "execute_result"
    }
   ],
   "source": [
    "# print unique values to see how many value we have to work on it\n",
    "data['going out'].unique()"
   ]
  },
  {
   "cell_type": "code",
   "execution_count": 267,
   "metadata": {},
   "outputs": [
    {
     "name": "stdout",
     "output_type": "stream",
     "text": [
      "Number of missing data: 0\n",
      "\n",
      "['Maybe' 'No' 'Yes']\n"
     ]
    },
    {
     "data": {
      "text/plain": [
       "going out\n",
       "No       82.845528\n",
       "Yes      12.682927\n",
       "Maybe     4.471545\n",
       "Name: proportion, dtype: float64"
      ]
     },
     "execution_count": 267,
     "metadata": {},
     "output_type": "execute_result"
    }
   ],
   "source": [
    "# fill in the missing with word 'Maybe' in it\n",
    "data['going out'].fillna('Maybe', inplace=True)\n",
    "\n",
    "print(\"Number of missing data: \" + str(data['going out'].isnull().sum()))\n",
    "print()\n",
    "print(data['going out'].unique())\n",
    "# print percent of each values\n",
    "data['going out'].value_counts(normalize=True) * 100\n"
   ]
  },
  {
   "cell_type": "markdown",
   "metadata": {},
   "source": [
    "<p style=\"font-size:30px; color: blue; font-weight: bold;\">Cleaning \"sex\"</p>"
   ]
  },
  {
   "cell_type": "code",
   "execution_count": 268,
   "metadata": {},
   "outputs": [
    {
     "data": {
      "text/plain": [
       "array([nan, 'Male', 'Female', \"I'd rather not say\", 'Other'], dtype=object)"
      ]
     },
     "execution_count": 268,
     "metadata": {},
     "output_type": "execute_result"
    }
   ],
   "source": [
    "data['sex'].unique()"
   ]
  },
  {
   "cell_type": "code",
   "execution_count": 269,
   "metadata": {},
   "outputs": [
    {
     "name": "stdout",
     "output_type": "stream",
     "text": [
      "Number of missing data: 0\n",
      "\n",
      "[\"Don't say\" 'Male' 'Female']\n"
     ]
    },
    {
     "data": {
      "text/plain": [
       "sex\n",
       "Male         59.634146\n",
       "Female       34.105691\n",
       "Don't say     6.260163\n",
       "Name: proportion, dtype: float64"
      ]
     },
     "execution_count": 269,
     "metadata": {},
     "output_type": "execute_result"
    }
   ],
   "source": [
    "# rename value inside and fill in maissing value\n",
    "data['sex'].replace({\"I'd rather not say\":\"Don't say\", \"Other\": \"Don't say\"}, inplace=True)\n",
    "data['sex'].fillna(\"Don't say\", inplace=True)\n",
    "\n",
    "print(\"Number of missing data: \" + str(data['sex'].isnull().sum()))\n",
    "print()\n",
    "print(data['sex'].unique())\n",
    "data['sex'].value_counts(normalize=True) * 100"
   ]
  },
  {
   "cell_type": "markdown",
   "metadata": {},
   "source": [
    "<p style=\"font-size:30px; color: blue; font-weight: bold;\">Cleaning \"age\"</p>"
   ]
  },
  {
   "cell_type": "code",
   "execution_count": 270,
   "metadata": {},
   "outputs": [
    {
     "data": {
      "text/plain": [
       "array([nan, 44, 49, 40, 23, 53, 33, 43, 56, 64, 37, 59, 48, 54, 36, 45,\n",
       "       25, 34, 35, 38, 58, 50, 47, 16, 52, 63, 65, 41, 27, 31, 61, 46, 42,\n",
       "       62, 29, 39, 32, 28, 69, 67, 30, 22, 26, 51, 70, 24, 18, 19,\n",
       "       'Old enough', 57, 60, 66, 12, 'Many', 55, 72, '?', 21, 11, 'no', 9,\n",
       "       68, 20, 6, 10, 71, 90, 13, '45-55', 312, 99, 7, 'hahahahaha', 88,\n",
       "       39.4, 74, 102, 'older than dirt', 17, 15, 8, 75, '5u', 'Enough',\n",
       "       'See question 2', '24-50', 14, 'Over 50', 100, 76, 1000,\n",
       "       'sixty-nine', '46 Halloweens.', 'ancient', 77, 'OLD', 'old', 73,\n",
       "       70.5, 1, 'MY NAME JEFF', 4, '59 on the day after Halloween',\n",
       "       'old enough', 'your mom',\n",
       "       'I can remember when Java was a cool new language', '60+'],\n",
       "      dtype=object)"
      ]
     },
     "execution_count": 270,
     "metadata": {},
     "output_type": "execute_result"
    }
   ],
   "source": [
    "data['age'].unique()"
   ]
  },
  {
   "cell_type": "code",
   "execution_count": 271,
   "metadata": {},
   "outputs": [
    {
     "data": {
      "text/plain": [
       "count    2352.000000\n",
       "mean       42.617304\n",
       "std        23.846531\n",
       "min         1.000000\n",
       "25%        34.000000\n",
       "50%        41.000000\n",
       "75%        50.000000\n",
       "max      1000.000000\n",
       "Name: age, dtype: float64"
      ]
     },
     "execution_count": 271,
     "metadata": {},
     "output_type": "execute_result"
    }
   ],
   "source": [
    "# convert values to number \"errors='coerce\" (if there are non-numeric values pandas should replace those values with NaN (Not a Number))\n",
    "data['age'] = pd.to_numeric(data['age'], errors= 'coerce')\n",
    "data['age'].fillna(np.nan, inplace=True)\n",
    "# summary statistics\n",
    "data['age'].describe()"
   ]
  },
  {
   "cell_type": "code",
   "execution_count": 272,
   "metadata": {},
   "outputs": [
    {
     "data": {
      "text/plain": [
       "<Axes: xlabel='age'>"
      ]
     },
     "execution_count": 272,
     "metadata": {},
     "output_type": "execute_result"
    },
    {
     "data": {
      "image/png": "[encoded data removed]",
      "text/plain": [
       "<Figure size 640x480 with 1 Axes>"
      ]
     },
     "metadata": {},
     "output_type": "display_data"
    }
   ],
   "source": [
    "# get an overview of the central tendency and spread of the 'age' variable\n",
    "sns.boxplot(x=data['age'])"
   ]
  },
  {
   "cell_type": "code",
   "execution_count": 273,
   "metadata": {},
   "outputs": [],
   "source": [
    "# calculates the lower and upper bounds for potential outliers in the 'age' column based on the Interquartile Range (IQR) method\n",
    "q1 = data['age'].quantile(0.25)\n",
    "q3 = data['age'].quantile(0.75)\n",
    "iqr = q3 - q1\n",
    "lower_bound = q1 - (1.5 * iqr)\n",
    "upper_bound = q3 + (1.5 * iqr)\n",
    "data['age'] = data['age'].apply(lambda x: np.nan if x < lower_bound or x > upper_bound else x)"
   ]
  },
  {
   "cell_type": "code",
   "execution_count": 274,
   "metadata": {},
   "outputs": [
    {
     "data": {
      "text/plain": [
       "135"
      ]
     },
     "execution_count": 274,
     "metadata": {},
     "output_type": "execute_result"
    }
   ],
   "source": [
    "data['age'].isnull().sum()"
   ]
  },
  {
   "cell_type": "code",
   "execution_count": 275,
   "metadata": {},
   "outputs": [
    {
     "name": "stdout",
     "output_type": "stream",
     "text": [
      "Number of missing data: 0\n"
     ]
    },
    {
     "data": {
      "text/plain": [
       "dtype('int64')"
      ]
     },
     "execution_count": 275,
     "metadata": {},
     "output_type": "execute_result"
    }
   ],
   "source": [
    "data['age'].fillna(data['age'].median(), inplace=True)\n",
    "#convert type to int\n",
    "data['age'] = data['age'].astype(int)\n",
    "\n",
    "print(\"Number of missing data: \" + str(data['age'].isnull().sum()))\n",
    "\n",
    "#checking type\n",
    "data['age'].dtype"
   ]
  },
  {
   "cell_type": "code",
   "execution_count": 276,
   "metadata": {},
   "outputs": [
    {
     "data": {
      "text/plain": [
       "<Axes: xlabel='age'>"
      ]
     },
     "execution_count": 276,
     "metadata": {},
     "output_type": "execute_result"
    },
    {
     "data": {
      "image/png": "[encoded data removed]",
      "text/plain": [
       "<Figure size 640x480 with 1 Axes>"
      ]
     },
     "metadata": {},
     "output_type": "display_data"
    }
   ],
   "source": [
    "sns.boxplot(x=data['age'])"
   ]
  },
  {
   "cell_type": "code",
   "execution_count": 277,
   "metadata": {},
   "outputs": [
    {
     "name": "stderr",
     "output_type": "stream",
     "text": [
      "/var/folders/qf/5v3t42g14tg8cgqq_cpxtgmc0000gn/T/ipykernel_72371/324817021.py:2: FutureWarning: \n",
      "\n",
      "`shade` is now deprecated in favor of `fill`; setting `fill=True`.\n",
      "This will become an error in seaborn v0.14.0; please update your code.\n",
      "\n",
      "  sns.kdeplot(data['age'], shade=True )\n"
     ]
    },
    {
     "data": {
      "text/plain": [
       "<Axes: xlabel='age', ylabel='Density'>"
      ]
     },
     "execution_count": 277,
     "metadata": {},
     "output_type": "execute_result"
    },
    {
     "data": {
      "image/png": "[encoded data removed]",
      "text/plain": [
       "<Figure size 640x480 with 1 Axes>"
      ]
     },
     "metadata": {},
     "output_type": "display_data"
    }
   ],
   "source": [
    "# This plot can provide insights into the underlying distribution of the 'age' variable and help identify potential patterns or anomalies.\n",
    "sns.kdeplot(data['age'], shade=True )"
   ]
  },
  {
   "cell_type": "markdown",
   "metadata": {},
   "source": [
    "<p style=\"font-size:30px; color: blue; font-weight: bold;\">Cleaning \"country\"</p>"
   ]
  },
  {
   "cell_type": "code",
   "execution_count": 278,
   "metadata": {},
   "outputs": [
    {
     "data": {
      "text/plain": [
       "array([nan, 'USA ', 'USA', 'us', 'usa', 'canada', 'Canada', 'Us', 'US',\n",
       "       'Murica', 'United States', 'uk', 'United Kingdom', 'united states',\n",
       "       'Usa', 'United States ', 'United staes',\n",
       "       'United States of America', 'UAE', 'England', 'UK', 'canada ',\n",
       "       'Mexico', 'United states', 'u.s.a.', 'USAUSAUSA', 'america', 35,\n",
       "       'france', 'United States of America ', 'U.S.A.', 'finland',\n",
       "       'unhinged states', 'Canada ', 'united states of america',\n",
       "       'US of A', 'Unites States', 'The United States', 'North Carolina ',\n",
       "       'Unied States', 'Netherlands', 'germany', 'Europe', 'Earth', 'U S',\n",
       "       'u.s.', 'U.K. ', 'Costa Rica', 'The United States of America',\n",
       "       'unite states', 'U.S.', 46, 'cascadia', 'Australia',\n",
       "       'insanity lately', 'Greece', 'USA? Hard to tell anymore..',\n",
       "       \"'merica\", 'usas', 'Pittsburgh', 45, 'United State', 32, 'France',\n",
       "       'australia', 'A', 'Can', 'Canae', 'New York', 'Trumpistan',\n",
       "       'Ireland', 'United Sates', 'Korea', 'California', 'Japan', 'USa',\n",
       "       'South africa',\n",
       "       'I pretend to be from Canada, but I am really from the United States.',\n",
       "       'Usa ', 'Uk', 'Iceland', 'Germany', 'Canada`', 'Scotland', 'UK ',\n",
       "       'Denmark', 'United Stated', 'France ', 'Switzerland',\n",
       "       'Ahem....Amerca', 'UD', 'Scotland ', 'South Korea', 'New Jersey',\n",
       "       'CANADA', 'Indonesia', 'United ststes', 'America',\n",
       "       'The Netherlands', 'United Statss', 'endland', 'Atlantis',\n",
       "       'murrika', 'USA! USA! USA!', 'USAA', 'Alaska', 'united States ',\n",
       "       'soviet canuckistan', 'N. America', 'Singapore', 'USSA', 'China',\n",
       "       'Taiwan', 'Ireland ', 'hong kong', 'spain', 'Sweden', 'Hong Kong',\n",
       "       'U.S. ', 'Narnia', 'u s a', 'United Statea', 'united ststes', 1,\n",
       "       'subscribe to dm4uz3 on youtube', 'United kingdom',\n",
       "       'USA USA USA!!!!', \"I don't know anymore\", 'Fear and Loathing'],\n",
       "      dtype=object)"
      ]
     },
     "execution_count": 278,
     "metadata": {},
     "output_type": "execute_result"
    }
   ],
   "source": [
    "data['country'].unique()"
   ]
  },
  {
   "cell_type": "code",
   "execution_count": 279,
   "metadata": {},
   "outputs": [],
   "source": [
    "# we used fuzzywuzzy to deal with the problem of different writing ways. (read more infomation in README file)\n",
    "from fuzzywuzzy import process\n",
    "\n",
    "val_countries = ['usa', 'united states', 'united states of america', 'america', 'uk', 'england', 'united kingdom', \\\n",
    "    'japan', 'canada', 'france', 'germany', 'spain', 'australia', 'sweden', 'switzerland', 'netherlands', 'norway']\n",
    "\n",
    "data['country'] = data['country'].str.lower()\n",
    "for country in val_countries:\n",
    "        matches = process.extract(country, data['country'], limit=data.shape[0])\n",
    "        for sub in matches:\n",
    "            if sub[1] >= 80:\n",
    "                data.loc[data['country'] == sub[0], 'country'] = country"
   ]
  },
  {
   "cell_type": "code",
   "execution_count": 280,
   "metadata": {},
   "outputs": [
    {
     "data": {
      "text/plain": [
       "array([nan, 'usa', 'canada', 'murica', 'america', 'uk', 'uae', 'england',\n",
       "       'mexico', 'u.s.a.', 'france', 'finland', 'north carolina ',\n",
       "       'netherlands', 'germany', 'europe', 'earth', 'costa rica',\n",
       "       'cascadia', 'australia', 'insanity lately', 'greece',\n",
       "       'usa? hard to tell anymore..', 'pittsburgh', 'canae', 'new york',\n",
       "       'trumpistan', 'ireland', 'korea', 'california', 'japan',\n",
       "       'south africa', 'iceland', 'scotland', 'denmark', 'switzerland',\n",
       "       'ud', 'scotland ', 'south korea', 'new jersey', 'indonesia',\n",
       "       'atlantis', 'murrika', 'alaska', 'soviet canuckistan', 'singapore',\n",
       "       'china', 'taiwan', 'ireland ', 'hong kong', 'spain', 'sweden',\n",
       "       'narnia', 'u s a', 'subscribe to dm4uz3 on youtube',\n",
       "       \"i don't know anymore\", 'fear and loathing'], dtype=object)"
      ]
     },
     "execution_count": 280,
     "metadata": {},
     "output_type": "execute_result"
    }
   ],
   "source": [
    "data['country'].unique()"
   ]
  },
  {
   "cell_type": "code",
   "execution_count": 281,
   "metadata": {},
   "outputs": [
    {
     "data": {
      "text/plain": [
       "country\n",
       "usa                               86.240067\n",
       "canada                             9.535759\n",
       "uk                                 0.920117\n",
       "germany                            0.418235\n",
       "netherlands                        0.292765\n",
       "australia                          0.292765\n",
       "japan                              0.209118\n",
       "mexico                             0.167294\n",
       "scotland                           0.167294\n",
       "china                              0.167294\n",
       "france                             0.125471\n",
       "switzerland                        0.125471\n",
       "ireland                            0.125471\n",
       "sweden                             0.083647\n",
       "denmark                            0.083647\n",
       "subscribe to dm4uz3 on youtube     0.041824\n",
       "atlantis                           0.041824\n",
       "i don't know anymore               0.041824\n",
       "singapore                          0.041824\n",
       "alaska                             0.041824\n",
       "narnia                             0.041824\n",
       "taiwan                             0.041824\n",
       "south korea                        0.041824\n",
       "ireland                            0.041824\n",
       "spain                              0.041824\n",
       "indonesia                          0.041824\n",
       "south africa                       0.041824\n",
       "scotland                           0.041824\n",
       "iceland                            0.041824\n",
       "korea                              0.041824\n",
       "trumpistan                         0.041824\n",
       "greece                             0.041824\n",
       "insanity lately                    0.041824\n",
       "costa rica                         0.041824\n",
       "earth                              0.041824\n",
       "europe                             0.041824\n",
       "north carolina                     0.041824\n",
       "finland                            0.041824\n",
       "uae                                0.041824\n",
       "fear and loathing                  0.041824\n",
       "Name: proportion, dtype: float64"
      ]
     },
     "execution_count": 281,
     "metadata": {},
     "output_type": "execute_result"
    }
   ],
   "source": [
    "true_countries = {'america': 'usa', 'murica':'usa', 'u.s.a.':'usa', 'england':'uk', 'new york': 'usa', 'north carolina': 'usa', 'cascadia':'usa', \\\n",
    "    'usa? hard to tell anymore..':'usa', 'pittsburgh':'usa', 'canae':'canada', 'california':'usa', 'ud':'uk', 'new jersey':'usa', 'soviet canuckistan':'canada', \\\n",
    "        'murrika':'usa', 'u s a':'usa', 'hong kong': 'china'}\n",
    "\n",
    "data['country'].replace(true_countries, inplace=True)\n",
    "data['country'].value_counts(normalize=True) * 100"
   ]
  },
  {
   "cell_type": "code",
   "execution_count": 282,
   "metadata": {},
   "outputs": [
    {
     "name": "stdout",
     "output_type": "stream",
     "text": [
      "country\n",
      "usa            83.821138\n",
      "canada          9.268293\n",
      "other           3.983740\n",
      "uk              0.894309\n",
      "germany         0.406504\n",
      "netherlands     0.284553\n",
      "australia       0.284553\n",
      "japan           0.203252\n",
      "mexico          0.162602\n",
      "scotland        0.162602\n",
      "china           0.162602\n",
      "france          0.121951\n",
      "ireland         0.121951\n",
      "switzerland     0.121951\n",
      "Name: proportion, dtype: float64\n",
      "\n",
      "Number of missing data: 0\n"
     ]
    }
   ],
   "source": [
    "last_countries = ['usa', 'canada', 'uk', 'germany', 'australia', 'netherlands', 'japan',\\\n",
    "    'china', 'mexico', 'scotland', 'france', 'switzerland', 'ireland']\n",
    "\n",
    "data['country'] = data['country'].apply(lambda x: x if x in last_countries else 'other')\n",
    "print(data['country'].value_counts(normalize=True) * 100)\n",
    "print()\n",
    "print(\"Number of missing data: \" + str(data['country'].isnull().sum()))"
   ]
  },
  {
   "cell_type": "markdown",
   "metadata": {},
   "source": [
    "<p style=\"font-size:30px; color: blue; font-weight:bold;\">Cleaning state</p>"
   ]
  },
  {
   "cell_type": "code",
   "execution_count": 283,
   "metadata": {},
   "outputs": [
    {
     "data": {
      "text/plain": [
       "array([nan, 'NM', 'Virginia', 'or', 'exton pa', 'Colorado ', 'ontario',\n",
       "       'Ontario', 'Wa', 'Quebec', 'NY', 'California', 'Texas', 'NEW YORK',\n",
       "       'CO', 'IN', 'MN', 'aberdeenshire', 'Alberta', 'Wisconsin, 53705',\n",
       "       'RI', 'NC', 'Scotland', 'minnesota', 'Michigan', 'Florida',\n",
       "       'New Jersey', 'VA', 'Colorado', 'Los Angeles, California', 'CA',\n",
       "       'New York ', 'Chicago, Illinois', 'Nj', 'Wisconsin', 'Minnesota ',\n",
       "       'London', 'mn', 'TEXAS', 'Illinois', 'District of Columbia',\n",
       "       'Washington', 'Massachusetts ', 'OR', 'Montana', 'New York',\n",
       "       'massachusetts', 'Abu Dhabi', 'TX', 'Arizona', 'Dc', 'yukon',\n",
       "       'Pennsylvania ', 'MD', 'Ohio', 'Alberta ', 'OXFORDSHIRE', 'DC',\n",
       "       'Iowa', 'Mn', 'TN', 'BC', 'Maryland', 'MI', 'Wisconsin ', 'alaska',\n",
       "       'Ny', 'Colorado, Jefferson county ', 'Louisiana', 'pa',\n",
       "       'CO, Larimer County', 'Nebraska ', 'Oregon', 'UT', 'ny',\n",
       "       'Pennsylvania', 'CDMX', 'north carolina', 'Tennessee ', 'Texas ',\n",
       "       'Knox county, Tennessee', 'New Mexico', 'Maine', 'maine',\n",
       "       'Virginia, Arlington', 'WA', 'MO', 'Illinois ', 'Mi', 'MA',\n",
       "       'Alaska', 'New York, NY', 'Il', 'PA', 'New Hampshire ',\n",
       "       'Washington ', 'Massachusetts', 'Georgia', 'IL', 'Oregon ',\n",
       "       'Washington, Clark ', 'NE', 'Oklahoma', 'SC', 'Nebraska', 'mi',\n",
       "       'Nevada', 'va', 'California ', 'vancouver, bc',\n",
       "       'Oregon - but will be in Washington for Halloween', 'Ri',\n",
       "       'Washington, King', 'Ca', 'wa', 'md', 'new york', 'Rhode island',\n",
       "       'VT, Chittenden', 'North Carolina', 'pennsylvania', 'PEnnsylvania',\n",
       "       'Alabama', 'GA', 'FL, Orange County', 'Nope', 'manitoba',\n",
       "       'colorado', 'california ', 'South Carolina', 'california',\n",
       "       'Baja California', 'illinois', 'Santa Cruz County, California',\n",
       "       'MARYLAND', 'NJ', 'North Dakota',\n",
       "       'Pennsylvania, Montgomery County', 'Astoria NY', 'Michigan ', 'ca',\n",
       "       'Kansas ', 'sk', 'Missouri', 'Oxfordshire', 'British Columbia',\n",
       "       'West Virginia', 'Harris County, Texas', 'USA ', 'ohio', 'ma',\n",
       "       'nc', 'Minnesota', 'Bc', 'oregon', 'philadelphia', 'Kentucky',\n",
       "       'HI', 'South Holland', 'Derbyshire', 'hesse',\n",
       "       'Massachusetts, Plymouth county', 'hi', 'Co', 'Cali', 'vt',\n",
       "       'CA, Alameda', 'Utah', 'FL', 'Michigan, Shiawassee County',\n",
       "       'Newfoundland', 'Indiana', 'wisconsin', 'Idaho ada', 'La',\n",
       "       'America', 'Hawaii', 'California, Alameda', 'Az', 'VT', 'AZ',\n",
       "       'Sub Earth', 'North dakota', 'virginia', 'Ga',\n",
       "       'alameda county, california', 'Greater London', 'bc', 'nm', 'AB',\n",
       "       'WV, Kanawha County ', 'michigan', 'Florida ', 'tx',\n",
       "       'Washington State', 'Sussex', 48, 'Washington, King County',\n",
       "       'San Jose', 'florida', 'Connecticut', 'New Jersey ', 'Orlando, FL',\n",
       "       'ON', 'Saskatchewan', 'South Carolina ', 'texas', 'newfoundland',\n",
       "       'mississippi', 'Oklahoma ', 'washington', 'Manitoba ',\n",
       "       'Manchester', 'cascadia', 'in', 'rhode island', 'Ohio ', 'Pa',\n",
       "       'FL ', 'Ut', 'Sydney ', 'CT',\n",
       "       'oblivion if things keep going this way', 'connecticut',\n",
       "       'British Columbia ', 'Nunya, Bizness, USA', 'OH',\n",
       "       'Washington state', 'Oakland, California',\n",
       "       'Washington, Seattle, king', 'Ontario,  Canada', 'ri',\n",
       "       'phoenix, maricopa county, arizona', 'Merlin', 'NS',\n",
       "       'Washington state, Kitsap County', 'cailifornia', 'oakland,ca',\n",
       "       'QC', 'USA', 'Missouri ', 'Pittsburgh pa',\n",
       "       'Issaquah, WA, King County ', 'Washington, seattle, king',\n",
       "       'Massachussets ', 'Whatcom County, WA', 'Mt', 'NH', 'Michigin',\n",
       "       'Ma', 'KS', 'Oakland County, Michigan', 'Albeqrrta', 'Marne',\n",
       "       'Noord-Holland', 'Tennessee, Knox County', 'Henrico, VA',\n",
       "       'Washington State, King County, City of Seattle', 'Washington, DC',\n",
       "       'nyc', 'Brooklyn', 'qld', 'Santa Barbara co. California',\n",
       "       'Maryland ', 'Ky', 'New Orleans la ', 'colorado, boulder', 'mo',\n",
       "       'COLORADO', 'Nh', 'Greater Manchester', 'Fife, Scotland', 'A',\n",
       "       'Kalamazoo County, MI', 'OREGON', 'Wi', 'Ontario ', 'wv',\n",
       "       'ulster county, NY', 'NJ, Gloucester', 'calif', 'Or', 'tn', 'MS',\n",
       "       'NB', 'Queens', 'Vermont', 'Kildare', 'Vermont ', 'ND',\n",
       "       'tennessee', 'Washington DC', 'Kings, New York ', 'Cook',\n",
       "       'Toronto, Ontario', 'Victoria', 'Virginia ', 'On', 'nova scotia',\n",
       "       'Tehama', 'suffolk county ny', 'Santa Clara County, California',\n",
       "       'louisiana', 'SD', 'Md', 'Missoure', 'IA',\n",
       "       'Colorado larimer county', 'Tokyo', 'New Mexico, USA', 'ont',\n",
       "       'Califor', 'Idaho', 'Kansas', 'NV', 'Brooklyn, kings county ny',\n",
       "       'King County, Washington', 'WI', 'Washington, Island county',\n",
       "       'KwaZulu-Natal', 'Carver county, MN', 'DUTCHESS COUNTY NY', 'Ny ',\n",
       "       'Wyoming ', 'Bristol ', 'british columbia',\n",
       "       'California, San Francisco', 'Glendora, Los Angeles, California',\n",
       "       'Edinburgh', 'Strathclyde', 'Lancasire', 'Ørbæk', 'pr', 'Idf',\n",
       "       'Zuid Holland', 'Osaka', 'Surrey', 'Northern ireland', 'Vaud',\n",
       "       'Arizona ', 'Nova Scotia', 'az', 'see question 2', 'Midlothian',\n",
       "       'Tennessee', 'Durham County, North Carolina',\n",
       "       'Missouri, Miller County', 'Glasgow ', 'ct',\n",
       "       'Cuyahoga County, Ohio', 'Seoul', 'Canada', 'Kanagawa ',\n",
       "       'The Shore', 'Manitoba', 'MD ', 'Devonshire', 'Utah ', 'Tx.',\n",
       "       'maryland', 'PENNSYLVANIA', 'ONTARIO', 'Jakarta', 'kansas',\n",
       "       'Mannheim, Baden-Württemberg ', '|NC', 'Wyoming', 'Rotterdam',\n",
       "       'Ar', 'Arkansas', 'renton,wa ', 'N-Brabant', 'missouri',\n",
       "       'Georgia ', 'Greifswald', 'ar', 'British Columbia, Canada', 'kent',\n",
       "       'Hessen', 'Kentucky ', 'NOYB', 'New york', 'South Dakota',\n",
       "       'Emerald City, Petrolia', 'New York, New York', 'wa, spokane',\n",
       "       'new york ', 'Buncombe County, North Carolina',\n",
       "       'California, San Diego', 'new hampshire',\n",
       "       'California, Ventura County', 'NY, Tompkins County', 'Nj ',\n",
       "       'Arlington, VA', 'Glasgow', 'kentucky', 'alberta', 'Philadelphia',\n",
       "       'Portland, maine', 'sc', 'nh', 'NSW', 'califormia', 'New jersey',\n",
       "       'montana', 'indiana ', 'Mexico city', 'GA - Georgia', 'il', 'WV',\n",
       "       'Oregon, Multnomah County', 'Vancouver, Wa', 'Nc', 'Atlanta, GA',\n",
       "       'Washington state ', 'Singapore', 'west virginia',\n",
       "       'North carolina', 'KY', 'United States', 'Mo', 'Colorado (CO)',\n",
       "       'Fl', 'wyoming', 'Nm', 'Dona Ana county, New Mexico',\n",
       "       'UT, Salt Lake', 'Ks',\n",
       "       'California, Contra Costa County, Pleasant Hill',\n",
       "       'Shanghai, Chang Ning district ', 'Vt', 'Monroe county',\n",
       "       'Hong Kong', 'Washingto', 'Dublin ',\n",
       "       'California, Mendocino County', 'na', 'madrid', 'Hesse',\n",
       "       'Noord-Brabant', 'Skane', 'Zürich', 'Tree Town, USA',\n",
       "       'New Hampshire', 'Philadelphia, PA',\n",
       "       'Bristol County, Rhode Island', 'georgia',\n",
       "       'Newfoundland and Labrador', 'Dublin', 'Oshawa, Ontario, Canada',\n",
       "       'NL', 'DC ', 'oklahoma', 'NJ; Essex', 'Va', 'Delaware', 'Mich',\n",
       "       'Ia', 'Québec', 'orange county, ca', 'BERKELEY, CA',\n",
       "       'California, USA', 'NYC', 'St. Louis County, Missouri', 'Munster',\n",
       "       'Chicago, IL', 'Philadelphia PA', 'Rappahannock County, VA', 'OK',\n",
       "       'Chicago, IL ', 'Mexico City', 'dc', 'Illinois  ', 'WASHINGTON DC',\n",
       "       'Tn', 'Connecticut ', 'ill', 'Idaho ', 'Stockholm',\n",
       "       'New York County, New York City, New York State', 'Chicago',\n",
       "       'West Yorkshire', 'Berlin', 'arlington, va', 1, 'ur mom',\n",
       "       'Alaska, Matanuska-Susitna Borough', 'utah', 'Marietta, GA',\n",
       "       'Northbrook, IL', 'delaware', 'Tx', 'Ont',\n",
       "       'Northampton County, PA', 'Rhode Island',\n",
       "       'Pa.   Northampton county', 'California, San Diego county',\n",
       "       'Bloomington, IN', 'indiana', 'Quenec', 'Londom', 'nj',\n",
       "       'st. augustine florida', 'illinois ', 'iowa',\n",
       "       \"The Democratic People's Republic of North Carolina\", 'SC ',\n",
       "       'pennsylvania, northampton couny, easton', 'St Louis mo', 'mt',\n",
       "       'Psychotic', 'québec'], dtype=object)"
      ]
     },
     "execution_count": 283,
     "metadata": {},
     "output_type": "execute_result"
    }
   ],
   "source": [
    "data['state'].unique()"
   ]
  },
  {
   "cell_type": "code",
   "execution_count": 284,
   "metadata": {},
   "outputs": [],
   "source": [
    "#We have a lot of state names, so we can drop it off.\n",
    "data.drop('state', axis='columns', inplace=True)"
   ]
  },
  {
   "cell_type": "markdown",
   "metadata": {},
   "source": [
    "<p style=\"font-size:30px; color: blue; font-weight:bold;\">Cleaning Q6 columns</p>"
   ]
  },
  {
   "cell_type": "code",
   "execution_count": 285,
   "metadata": {},
   "outputs": [],
   "source": [
    "# loop across data columns started with Q6 and fill in missing value by 'Unknown'\n",
    "for col in data.columns:\n",
    "    if col.startswith('Q6'):\n",
    "        data[col].fillna('Unknown', inplace=True)"
   ]
  },
  {
   "cell_type": "code",
   "execution_count": 286,
   "metadata": {},
   "outputs": [
    {
     "name": "stdout",
     "output_type": "stream",
     "text": [
      "Q6 | 100 Grand Bar: 0\n",
      "Q6 | Anonymous brown globs that come in black and orange wrappers\t(a.k.a. Mary Janes): 0\n",
      "Q6 | Any full-sized candy bar: 0\n",
      "Q6 | Black Jacks: 0\n",
      "Q6 | Bonkers (the candy): 0\n",
      "Q6 | Bonkers (the board game): 0\n",
      "Q6 | Bottle Caps: 0\n",
      "Q6 | Box'o'Raisins: 0\n",
      "Q6 | Broken glow stick: 0\n",
      "Q6 | Butterfinger: 0\n",
      "Q6 | Cadbury Creme Eggs: 0\n",
      "Q6 | Candy Corn: 0\n",
      "Q6 | Candy that is clearly just the stuff given out for free at restaurants: 0\n",
      "Q6 | Caramellos: 0\n",
      "Q6 | Cash, or other forms of legal tender: 0\n",
      "Q6 | Chardonnay: 0\n",
      "Q6 | Chick-o-Sticks (we don’t know what that is): 0\n",
      "Q6 | Chiclets: 0\n",
      "Q6 | Coffee Crisp: 0\n",
      "Q6 | Creepy Religious comics/Chick Tracts: 0\n",
      "Q6 | Dental paraphenalia: 0\n",
      "Q6 | Dots: 0\n",
      "Q6 | Dove Bars: 0\n",
      "Q6 | Fuzzy Peaches: 0\n",
      "Q6 | Generic Brand Acetaminophen: 0\n",
      "Q6 | Glow sticks: 0\n",
      "Q6 | Goo Goo Clusters: 0\n",
      "Q6 | Good N' Plenty: 0\n",
      "Q6 | Gum from baseball cards: 0\n",
      "Q6 | Gummy Bears straight up: 0\n",
      "Q6 | Hard Candy: 0\n",
      "Q6 | Healthy Fruit: 0\n",
      "Q6 | Heath Bar: 0\n",
      "Q6 | Hershey's Dark Chocolate: 0\n",
      "Q6 | Hershey’s Milk Chocolate: 0\n",
      "Q6 | Hershey's Kisses: 0\n",
      "Q6 | Hugs (actual physical hugs): 0\n",
      "Q6 | Jolly Rancher (bad flavor): 0\n",
      "Q6 | Jolly Ranchers (good flavor): 0\n",
      "Q6 | JoyJoy (Mit Iodine!): 0\n",
      "Q6 | Junior Mints: 0\n",
      "Q6 | Senior Mints: 0\n",
      "Q6 | Kale smoothie: 0\n",
      "Q6 | Kinder Happy Hippo: 0\n",
      "Q6 | Kit Kat: 0\n",
      "Q6 | LaffyTaffy: 0\n",
      "Q6 | LemonHeads: 0\n",
      "Q6 | Licorice (not black): 0\n",
      "Q6 | Licorice (yes black): 0\n",
      "Q6 | Lindt Truffle: 0\n",
      "Q6 | Lollipops: 0\n",
      "Q6 | Mars: 0\n",
      "Q6 | Maynards: 0\n",
      "Q6 | Mike and Ike: 0\n",
      "Q6 | Milk Duds: 0\n",
      "Q6 | Milky Way: 0\n",
      "Q6 | Regular M&Ms: 0\n",
      "Q6 | Peanut M&M’s: 0\n",
      "Q6 | Blue M&M's: 0\n",
      "Q6 | Red M&M's: 0\n",
      "Q6 | Green Party M&M's: 0\n",
      "Q6 | Independent M&M's: 0\n",
      "Q6 | Abstained from M&M'ing.: 0\n",
      "Q6 | Minibags of chips: 0\n",
      "Q6 | Mint Kisses: 0\n",
      "Q6 | Mint Juleps: 0\n",
      "Q6 | Mr. Goodbar: 0\n",
      "Q6 | Necco Wafers: 0\n",
      "Q6 | Nerds: 0\n",
      "Q6 | Nestle Crunch: 0\n",
      "Q6 | Now'n'Laters: 0\n",
      "Q6 | Peeps: 0\n",
      "Q6 | Pencils: 0\n",
      "Q6 | Pixy Stix: 0\n",
      "Q6 | Real Housewives of Orange County Season 9 Blue-Ray: 0\n",
      "Q6 | Reese’s Peanut Butter Cups: 0\n",
      "Q6 | Reese's Pieces: 0\n",
      "Q6 | Reggie Jackson Bar: 0\n",
      "Q6 | Rolos: 0\n",
      "Q6 | Sandwich-sized bags filled with BooBerry Crunch: 0\n",
      "Q6 | Skittles: 0\n",
      "Q6 | Smarties (American): 0\n",
      "Q6 | Smarties (Commonwealth): 0\n",
      "Q6 | Snickers: 0\n",
      "Q6 | Sourpatch Kids (i.e. abominations of nature): 0\n",
      "Q6 | Spotted Dick: 0\n",
      "Q6 | Starburst: 0\n",
      "Q6 | Sweet Tarts: 0\n",
      "Q6 | Swedish Fish: 0\n",
      "Q6 | Sweetums (a friend to diabetes): 0\n",
      "Q6 | Take 5: 0\n",
      "Q6 | Tic Tacs: 0\n",
      "Q6 | Those odd marshmallow circus peanut things: 0\n",
      "Q6 | Three Musketeers: 0\n",
      "Q6 | Tolberone something or other: 0\n",
      "Q6 | Trail Mix: 0\n",
      "Q6 | Twix: 0\n",
      "Q6 | Vials of pure high fructose corn syrup, for main-lining into your vein: 0\n",
      "Q6 | Vicodin: 0\n",
      "Q6 | Whatchamacallit Bars: 0\n",
      "Q6 | White Bread: 0\n",
      "Q6 | Whole Wheat anything: 0\n",
      "Q6 | York Peppermint Patties: 0\n"
     ]
    }
   ],
   "source": [
    "for col in data.columns:\n",
    "    if col.startswith('Q6'):\n",
    "        print(f\"{col}: {data[col].isnull().sum()}\")"
   ]
  },
  {
   "cell_type": "code",
   "execution_count": 287,
   "metadata": {},
   "outputs": [],
   "source": [
    "# loop across data columns starting from column 4 up to column 6 of the end, and rename it by remove first 5 character\n",
    "for col in data.columns[4:-6]:\n",
    "    data.rename(columns={col: col[5:]}, inplace=True)"
   ]
  },
  {
   "cell_type": "code",
   "execution_count": 288,
   "metadata": {},
   "outputs": [
    {
     "data": {
      "text/plain": [
       "['going out',\n",
       " 'sex',\n",
       " 'age',\n",
       " 'country',\n",
       " '100 Grand Bar',\n",
       " 'Anonymous brown globs that come in black and orange wrappers\\t(a.k.a. Mary Janes)',\n",
       " 'Any full-sized candy bar',\n",
       " 'Black Jacks',\n",
       " 'Bonkers (the candy)',\n",
       " 'Bonkers (the board game)',\n",
       " 'Bottle Caps',\n",
       " \"Box'o'Raisins\",\n",
       " 'Broken glow stick',\n",
       " 'Butterfinger',\n",
       " 'Cadbury Creme Eggs',\n",
       " 'Candy Corn',\n",
       " 'Candy that is clearly just the stuff given out for free at restaurants',\n",
       " 'Caramellos',\n",
       " 'Cash, or other forms of legal tender',\n",
       " 'Chardonnay',\n",
       " 'Chick-o-Sticks (we don’t know what that is)',\n",
       " 'Chiclets',\n",
       " 'Coffee Crisp',\n",
       " 'Creepy Religious comics/Chick Tracts',\n",
       " 'Dental paraphenalia',\n",
       " 'Dots',\n",
       " 'Dove Bars',\n",
       " 'Fuzzy Peaches',\n",
       " 'Generic Brand Acetaminophen',\n",
       " 'Glow sticks',\n",
       " 'Goo Goo Clusters',\n",
       " \"Good N' Plenty\",\n",
       " 'Gum from baseball cards',\n",
       " 'Gummy Bears straight up',\n",
       " 'Hard Candy',\n",
       " 'Healthy Fruit',\n",
       " 'Heath Bar',\n",
       " \"Hershey's Dark Chocolate\",\n",
       " 'Hershey’s Milk Chocolate',\n",
       " \"Hershey's Kisses\",\n",
       " 'Hugs (actual physical hugs)',\n",
       " 'Jolly Rancher (bad flavor)',\n",
       " 'Jolly Ranchers (good flavor)',\n",
       " 'JoyJoy (Mit Iodine!)',\n",
       " 'Junior Mints',\n",
       " 'Senior Mints',\n",
       " 'Kale smoothie',\n",
       " 'Kinder Happy Hippo',\n",
       " 'Kit Kat',\n",
       " 'LaffyTaffy',\n",
       " 'LemonHeads',\n",
       " 'Licorice (not black)',\n",
       " 'Licorice (yes black)',\n",
       " 'Lindt Truffle',\n",
       " 'Lollipops',\n",
       " 'Mars',\n",
       " 'Maynards',\n",
       " 'Mike and Ike',\n",
       " 'Milk Duds',\n",
       " 'Milky Way',\n",
       " 'Regular M&Ms',\n",
       " 'Peanut M&M’s',\n",
       " \"Blue M&M's\",\n",
       " \"Red M&M's\",\n",
       " \"Green Party M&M's\",\n",
       " \"Independent M&M's\",\n",
       " \"Abstained from M&M'ing.\",\n",
       " 'Minibags of chips',\n",
       " 'Mint Kisses',\n",
       " 'Mint Juleps',\n",
       " 'Mr. Goodbar',\n",
       " 'Necco Wafers',\n",
       " 'Nerds',\n",
       " 'Nestle Crunch',\n",
       " \"Now'n'Laters\",\n",
       " 'Peeps',\n",
       " 'Pencils',\n",
       " 'Pixy Stix',\n",
       " 'Real Housewives of Orange County Season 9 Blue-Ray',\n",
       " 'Reese’s Peanut Butter Cups',\n",
       " \"Reese's Pieces\",\n",
       " 'Reggie Jackson Bar',\n",
       " 'Rolos',\n",
       " 'Sandwich-sized bags filled with BooBerry Crunch',\n",
       " 'Skittles',\n",
       " 'Smarties (American)',\n",
       " 'Smarties (Commonwealth)',\n",
       " 'Snickers',\n",
       " 'Sourpatch Kids (i.e. abominations of nature)',\n",
       " 'Spotted Dick',\n",
       " 'Starburst',\n",
       " 'Sweet Tarts',\n",
       " 'Swedish Fish',\n",
       " 'Sweetums (a friend to diabetes)',\n",
       " 'Take 5',\n",
       " 'Tic Tacs',\n",
       " 'Those odd marshmallow circus peanut things',\n",
       " 'Three Musketeers',\n",
       " 'Tolberone something or other',\n",
       " 'Trail Mix',\n",
       " 'Twix',\n",
       " 'Vials of pure high fructose corn syrup, for main-lining into your vein',\n",
       " 'Vicodin',\n",
       " 'Whatchamacallit Bars',\n",
       " 'White Bread',\n",
       " 'Whole Wheat anything',\n",
       " 'York Peppermint Patties',\n",
       " 'dress',\n",
       " 'day',\n",
       " 'daily dish',\n",
       " 'science',\n",
       " 'espn',\n",
       " 'yahoo']"
      ]
     },
     "execution_count": 288,
     "metadata": {},
     "output_type": "execute_result"
    }
   ],
   "source": [
    "list(data)"
   ]
  },
  {
   "cell_type": "markdown",
   "metadata": {},
   "source": [
    "<p style=\"font-size:30px; color: blue; font-weight:bold;\">Cleaning dress</p>"
   ]
  },
  {
   "cell_type": "code",
   "execution_count": 289,
   "metadata": {},
   "outputs": [
    {
     "data": {
      "text/plain": [
       "array([nan, 'White and gold', 'Blue and black'], dtype=object)"
      ]
     },
     "execution_count": 289,
     "metadata": {},
     "output_type": "execute_result"
    }
   ],
   "source": [
    "data['dress'].unique()"
   ]
  },
  {
   "cell_type": "code",
   "execution_count": 290,
   "metadata": {},
   "outputs": [
    {
     "name": "stdout",
     "output_type": "stream",
     "text": [
      "Number of missing data: 0\n",
      "\n",
      "['Orter' 'White and gold' 'Blue and black']\n"
     ]
    },
    {
     "data": {
      "text/plain": [
       "dress\n",
       "White and gold    43.943089\n",
       "Orter             30.243902\n",
       "Blue and black    25.813008\n",
       "Name: proportion, dtype: float64"
      ]
     },
     "execution_count": 290,
     "metadata": {},
     "output_type": "execute_result"
    }
   ],
   "source": [
    "data['dress'].fillna('Orter', inplace=True)\n",
    "\n",
    "print(\"Number of missing data: \" + str(data['dress'].isnull().sum()))\n",
    "print()\n",
    "print(data['dress'].unique())\n",
    "data['dress'].value_counts(normalize=True) * 100"
   ]
  },
  {
   "cell_type": "markdown",
   "metadata": {},
   "source": [
    "<p style=\"font-size:30px; color: blue; font-weight:bold;\">Cleaning day</p>"
   ]
  },
  {
   "cell_type": "code",
   "execution_count": 291,
   "metadata": {},
   "outputs": [
    {
     "data": {
      "text/plain": [
       "array([nan, 'Sunday', 'Friday'], dtype=object)"
      ]
     },
     "execution_count": 291,
     "metadata": {},
     "output_type": "execute_result"
    }
   ],
   "source": [
    "data['day'].unique()"
   ]
  },
  {
   "cell_type": "code",
   "execution_count": 292,
   "metadata": {},
   "outputs": [
    {
     "name": "stdout",
     "output_type": "stream",
     "text": [
      "Number of missing value: 0\n",
      "\n",
      "['Orther' 'Sunday' 'Friday']\n"
     ]
    },
    {
     "data": {
      "text/plain": [
       "day\n",
       "Friday    109100\n",
       "Orther     72500\n",
       "Sunday     64400\n",
       "Name: count, dtype: int64"
      ]
     },
     "execution_count": 292,
     "metadata": {},
     "output_type": "execute_result"
    }
   ],
   "source": [
    "data['day'].fillna('Orther', inplace=True)\n",
    "\n",
    "print(\"Number of missing value: \" + str(data['day'].isnull().sum()))\n",
    "print()\n",
    "print(data['day'].unique())\n",
    "\n",
    "data['day'].value_counts() * 100"
   ]
  },
  {
   "cell_type": "markdown",
   "metadata": {},
   "source": [
    "<p style=\"font-size:30px; color: blue; font-weight:bold;\">Cleaning last 4 columns</p>"
   ]
  },
  {
   "cell_type": "code",
   "execution_count": 293,
   "metadata": {},
   "outputs": [
    {
     "data": {
      "text/plain": [
       "daily dish    2375\n",
       "science       1098\n",
       "espn          2361\n",
       "yahoo         2393\n",
       "dtype: int64"
      ]
     },
     "execution_count": 293,
     "metadata": {},
     "output_type": "execute_result"
    }
   ],
   "source": [
    "# only select column that have missing value\n",
    "data.isnull().sum()[data.isnull().sum() > 0]"
   ]
  },
  {
   "cell_type": "code",
   "execution_count": 294,
   "metadata": {},
   "outputs": [
    {
     "name": "stdout",
     "output_type": "stream",
     "text": [
      "daily dish\n",
      "[nan  1.]\n",
      "science\n",
      "[nan  1.]\n",
      "espn\n",
      "[nan  1.]\n",
      "yahoo\n",
      "[nan  1.]\n"
     ]
    }
   ],
   "source": [
    "# loop through last 4 columns\n",
    "for col in data.columns[-4:]:\n",
    "    print(f\"{col}\")\n",
    "    print(data[col].unique())\n"
   ]
  },
  {
   "cell_type": "code",
   "execution_count": 295,
   "metadata": {},
   "outputs": [],
   "source": [
    "for col in data.columns[-4:]:\n",
    "    data[col].fillna(0, inplace=True)"
   ]
  },
  {
   "cell_type": "code",
   "execution_count": 296,
   "metadata": {},
   "outputs": [],
   "source": [
    "# if the sum of values from these four columns is equal to 0, the value in the 'No page' column will be 1, otherwise it will be 0.\n",
    "data['No page'] = (data['daily dish'] + data['science'] + data['espn'] + data['yahoo']).apply(lambda x: 1 if x == 0 else 0)"
   ]
  },
  {
   "cell_type": "code",
   "execution_count": 297,
   "metadata": {},
   "outputs": [
    {
     "name": "stdout",
     "output_type": "stream",
     "text": [
      "daily dish\n",
      "0    96.544715\n",
      "1     3.455285\n",
      "Name: proportion, dtype: float64 \n",
      "\n",
      "science\n",
      "1    55.365854\n",
      "0    44.634146\n",
      "Name: proportion, dtype: float64 \n",
      "\n",
      "espn\n",
      "0    95.97561\n",
      "1     4.02439\n",
      "Name: proportion, dtype: float64 \n",
      "\n",
      "yahoo\n",
      "0    97.276423\n",
      "1     2.723577\n",
      "Name: proportion, dtype: float64 \n",
      "\n",
      "No page\n",
      "0    65.569106\n",
      "1    34.430894\n",
      "Name: proportion, dtype: float64 \n",
      "\n"
     ]
    }
   ],
   "source": [
    "for col in data.columns[-5:]:\n",
    "    data[col] = data[col].astype(int)\n",
    "    print(data[col].value_counts(normalize=True) * 100, '\\n')"
   ]
  },
  {
   "cell_type": "markdown",
   "metadata": {},
   "source": [
    "<p style=\"font-size:30px; color: blue; font-weight:bold;\">Final Check</p>"
   ]
  },
  {
   "cell_type": "code",
   "execution_count": 298,
   "metadata": {},
   "outputs": [
    {
     "data": {
      "text/html": [
       "<div>\n",
       "<style scoped>\n",
       "    .dataframe tbody tr th:only-of-type {\n",
       "        vertical-align: middle;\n",
       "    }\n",
       "\n",
       "    .dataframe tbody tr th {\n",
       "        vertical-align: top;\n",
       "    }\n",
       "\n",
       "    .dataframe thead th {\n",
       "        text-align: right;\n",
       "    }\n",
       "</style>\n",
       "<table border=\"1\" class=\"dataframe\">\n",
       "  <thead>\n",
       "    <tr style=\"text-align: right;\">\n",
       "      <th></th>\n",
       "      <th>Type</th>\n",
       "      <th>Null</th>\n",
       "    </tr>\n",
       "  </thead>\n",
       "  <tbody>\n",
       "    <tr>\n",
       "      <th>going out</th>\n",
       "      <td>object</td>\n",
       "      <td>0</td>\n",
       "    </tr>\n",
       "    <tr>\n",
       "      <th>sex</th>\n",
       "      <td>object</td>\n",
       "      <td>0</td>\n",
       "    </tr>\n",
       "    <tr>\n",
       "      <th>age</th>\n",
       "      <td>int64</td>\n",
       "      <td>0</td>\n",
       "    </tr>\n",
       "    <tr>\n",
       "      <th>country</th>\n",
       "      <td>object</td>\n",
       "      <td>0</td>\n",
       "    </tr>\n",
       "    <tr>\n",
       "      <th>100 Grand Bar</th>\n",
       "      <td>object</td>\n",
       "      <td>0</td>\n",
       "    </tr>\n",
       "    <tr>\n",
       "      <th>...</th>\n",
       "      <td>...</td>\n",
       "      <td>...</td>\n",
       "    </tr>\n",
       "    <tr>\n",
       "      <th>daily dish</th>\n",
       "      <td>int64</td>\n",
       "      <td>0</td>\n",
       "    </tr>\n",
       "    <tr>\n",
       "      <th>science</th>\n",
       "      <td>int64</td>\n",
       "      <td>0</td>\n",
       "    </tr>\n",
       "    <tr>\n",
       "      <th>espn</th>\n",
       "      <td>int64</td>\n",
       "      <td>0</td>\n",
       "    </tr>\n",
       "    <tr>\n",
       "      <th>yahoo</th>\n",
       "      <td>int64</td>\n",
       "      <td>0</td>\n",
       "    </tr>\n",
       "    <tr>\n",
       "      <th>No page</th>\n",
       "      <td>int64</td>\n",
       "      <td>0</td>\n",
       "    </tr>\n",
       "  </tbody>\n",
       "</table>\n",
       "<p>114 rows × 2 columns</p>\n",
       "</div>"
      ],
      "text/plain": [
       "                 Type  Null\n",
       "going out      object     0\n",
       "sex            object     0\n",
       "age             int64     0\n",
       "country        object     0\n",
       "100 Grand Bar  object     0\n",
       "...               ...   ...\n",
       "daily dish      int64     0\n",
       "science         int64     0\n",
       "espn            int64     0\n",
       "yahoo           int64     0\n",
       "No page         int64     0\n",
       "\n",
       "[114 rows x 2 columns]"
      ]
     },
     "execution_count": 298,
     "metadata": {},
     "output_type": "execute_result"
    }
   ],
   "source": [
    "pd.DataFrame({\"Type\": data.dtypes, \"Null\": [data[col].isnull().sum() for col in data.columns]})"
   ]
  },
  {
   "cell_type": "code",
   "execution_count": 299,
   "metadata": {},
   "outputs": [
    {
     "data": {
      "text/html": [
       "<div>\n",
       "<style scoped>\n",
       "    .dataframe tbody tr th:only-of-type {\n",
       "        vertical-align: middle;\n",
       "    }\n",
       "\n",
       "    .dataframe tbody tr th {\n",
       "        vertical-align: top;\n",
       "    }\n",
       "\n",
       "    .dataframe thead th {\n",
       "        text-align: right;\n",
       "    }\n",
       "</style>\n",
       "<table border=\"1\" class=\"dataframe\">\n",
       "  <thead>\n",
       "    <tr style=\"text-align: right;\">\n",
       "      <th></th>\n",
       "      <th>going out</th>\n",
       "      <th>sex</th>\n",
       "      <th>country</th>\n",
       "      <th>100 Grand Bar</th>\n",
       "      <th>Anonymous brown globs that come in black and orange wrappers\\t(a.k.a. Mary Janes)</th>\n",
       "      <th>Any full-sized candy bar</th>\n",
       "      <th>Black Jacks</th>\n",
       "      <th>Bonkers (the candy)</th>\n",
       "      <th>Bonkers (the board game)</th>\n",
       "      <th>Bottle Caps</th>\n",
       "      <th>...</th>\n",
       "      <th>Trail Mix</th>\n",
       "      <th>Twix</th>\n",
       "      <th>Vials of pure high fructose corn syrup, for main-lining into your vein</th>\n",
       "      <th>Vicodin</th>\n",
       "      <th>Whatchamacallit Bars</th>\n",
       "      <th>White Bread</th>\n",
       "      <th>Whole Wheat anything</th>\n",
       "      <th>York Peppermint Patties</th>\n",
       "      <th>dress</th>\n",
       "      <th>day</th>\n",
       "    </tr>\n",
       "  </thead>\n",
       "  <tbody>\n",
       "    <tr>\n",
       "      <th>count</th>\n",
       "      <td>2460</td>\n",
       "      <td>2460</td>\n",
       "      <td>2460</td>\n",
       "      <td>2460</td>\n",
       "      <td>2460</td>\n",
       "      <td>2460</td>\n",
       "      <td>2460</td>\n",
       "      <td>2460</td>\n",
       "      <td>2460</td>\n",
       "      <td>2460</td>\n",
       "      <td>...</td>\n",
       "      <td>2460</td>\n",
       "      <td>2460</td>\n",
       "      <td>2460</td>\n",
       "      <td>2460</td>\n",
       "      <td>2460</td>\n",
       "      <td>2460</td>\n",
       "      <td>2460</td>\n",
       "      <td>2460</td>\n",
       "      <td>2460</td>\n",
       "      <td>2460</td>\n",
       "    </tr>\n",
       "    <tr>\n",
       "      <th>unique</th>\n",
       "      <td>3</td>\n",
       "      <td>3</td>\n",
       "      <td>14</td>\n",
       "      <td>4</td>\n",
       "      <td>4</td>\n",
       "      <td>4</td>\n",
       "      <td>4</td>\n",
       "      <td>4</td>\n",
       "      <td>4</td>\n",
       "      <td>4</td>\n",
       "      <td>...</td>\n",
       "      <td>4</td>\n",
       "      <td>4</td>\n",
       "      <td>4</td>\n",
       "      <td>4</td>\n",
       "      <td>4</td>\n",
       "      <td>4</td>\n",
       "      <td>4</td>\n",
       "      <td>4</td>\n",
       "      <td>3</td>\n",
       "      <td>3</td>\n",
       "    </tr>\n",
       "    <tr>\n",
       "      <th>top</th>\n",
       "      <td>No</td>\n",
       "      <td>Male</td>\n",
       "      <td>usa</td>\n",
       "      <td>JOY</td>\n",
       "      <td>DESPAIR</td>\n",
       "      <td>JOY</td>\n",
       "      <td>Unknown</td>\n",
       "      <td>Unknown</td>\n",
       "      <td>Unknown</td>\n",
       "      <td>Unknown</td>\n",
       "      <td>...</td>\n",
       "      <td>DESPAIR</td>\n",
       "      <td>JOY</td>\n",
       "      <td>DESPAIR</td>\n",
       "      <td>Unknown</td>\n",
       "      <td>JOY</td>\n",
       "      <td>DESPAIR</td>\n",
       "      <td>DESPAIR</td>\n",
       "      <td>JOY</td>\n",
       "      <td>White and gold</td>\n",
       "      <td>Friday</td>\n",
       "    </tr>\n",
       "    <tr>\n",
       "      <th>freq</th>\n",
       "      <td>2038</td>\n",
       "      <td>1467</td>\n",
       "      <td>2062</td>\n",
       "      <td>873</td>\n",
       "      <td>1089</td>\n",
       "      <td>1559</td>\n",
       "      <td>958</td>\n",
       "      <td>992</td>\n",
       "      <td>1006</td>\n",
       "      <td>765</td>\n",
       "      <td>...</td>\n",
       "      <td>836</td>\n",
       "      <td>1413</td>\n",
       "      <td>1146</td>\n",
       "      <td>789</td>\n",
       "      <td>840</td>\n",
       "      <td>1455</td>\n",
       "      <td>1289</td>\n",
       "      <td>1105</td>\n",
       "      <td>1081</td>\n",
       "      <td>1091</td>\n",
       "    </tr>\n",
       "  </tbody>\n",
       "</table>\n",
       "<p>4 rows × 108 columns</p>\n",
       "</div>"
      ],
      "text/plain": [
       "       going out   sex country 100 Grand Bar  \\\n",
       "count       2460  2460    2460          2460   \n",
       "unique         3     3      14             4   \n",
       "top           No  Male     usa           JOY   \n",
       "freq        2038  1467    2062           873   \n",
       "\n",
       "       Anonymous brown globs that come in black and orange wrappers\\t(a.k.a. Mary Janes)  \\\n",
       "count                                                2460                                  \n",
       "unique                                                  4                                  \n",
       "top                                               DESPAIR                                  \n",
       "freq                                                 1089                                  \n",
       "\n",
       "       Any full-sized candy bar Black Jacks Bonkers (the candy)  \\\n",
       "count                      2460        2460                2460   \n",
       "unique                        4           4                   4   \n",
       "top                         JOY     Unknown             Unknown   \n",
       "freq                       1559         958                 992   \n",
       "\n",
       "       Bonkers (the board game) Bottle Caps  ... Trail Mix  Twix  \\\n",
       "count                      2460        2460  ...      2460  2460   \n",
       "unique                        4           4  ...         4     4   \n",
       "top                     Unknown     Unknown  ...   DESPAIR   JOY   \n",
       "freq                       1006         765  ...       836  1413   \n",
       "\n",
       "       Vials of pure high fructose corn syrup, for main-lining into your vein  \\\n",
       "count                                                2460                       \n",
       "unique                                                  4                       \n",
       "top                                               DESPAIR                       \n",
       "freq                                                 1146                       \n",
       "\n",
       "        Vicodin Whatchamacallit Bars White Bread Whole Wheat anything  \\\n",
       "count      2460                 2460        2460                 2460   \n",
       "unique        4                    4           4                    4   \n",
       "top     Unknown                  JOY     DESPAIR              DESPAIR   \n",
       "freq        789                  840        1455                 1289   \n",
       "\n",
       "       York Peppermint Patties           dress     day  \n",
       "count                     2460            2460    2460  \n",
       "unique                       4               3       3  \n",
       "top                        JOY  White and gold  Friday  \n",
       "freq                      1105            1081    1091  \n",
       "\n",
       "[4 rows x 108 columns]"
      ]
     },
     "execution_count": 299,
     "metadata": {},
     "output_type": "execute_result"
    }
   ],
   "source": [
    "des = data.describe(include=['O'])\n",
    "des"
   ]
  },
  {
   "cell_type": "code",
   "execution_count": 300,
   "metadata": {},
   "outputs": [
    {
     "name": "stdout",
     "output_type": "stream",
     "text": [
      "These are the 10 most loved chocolates:\n"
     ]
    },
    {
     "data": {
      "image/png": "[encoded data removed]",
      "text/plain": [
       "<Figure size 640x480 with 1 Axes>"
      ]
     },
     "metadata": {},
     "output_type": "display_data"
    }
   ],
   "source": [
    "des_2 = des.iloc[[2, 3], 3:-2].T\n",
    "print(\"These are the 10 most loved chocolates:\")\n",
    "top_joy = des_2.sort_values(by='freq', ascending=False)[des_2.sort_values(by='freq', ascending=False)['top'] == \"JOY\"].head(10)\n",
    "\n",
    "\n",
    "ax = sns.barplot(y = top_joy.index, x = 'freq', palette = 'viridis', data=top_joy)\n",
    "for i, v in enumerate(top_joy['freq']):\n",
    "    ax.text(v + 1, i + .25, str(round(v, 2)), color='black', fontweight='bold')\n",
    "plt.title(\"Top 10 most loved chocolates\")\n",
    "plt.xlabel(\"Frequency\")\n",
    "plt.ylabel(\"Chocolates\")\n",
    "plt.show()"
   ]
  },
  {
   "cell_type": "code",
   "execution_count": 301,
   "metadata": {},
   "outputs": [
    {
     "name": "stdout",
     "output_type": "stream",
     "text": [
      "These are the 10 most hated chocolates:\n"
     ]
    },
    {
     "data": {
      "image/png": "[encoded data removed]",
      "text/plain": [
       "<Figure size 640x480 with 1 Axes>"
      ]
     },
     "metadata": {},
     "output_type": "display_data"
    }
   ],
   "source": [
    "print(\"These are the 10 most hated chocolates:\")\n",
    "\n",
    "top_despair = des_2.sort_values(by='freq', ascending=False)[des_2.sort_values(by='freq', ascending=False)['top'] == \"DESPAIR\"].head(10)\n",
    "\n",
    "ax = sns.barplot(y = top_despair.index, x = 'freq', palette = 'flare', data=top_despair)\n",
    "for i, v in enumerate(top_despair['freq']):\n",
    "    ax.text(v + 1, i + .25, str(round(v, 2)), color='black', fontweight='bold')\n",
    "plt.title(\"Top 10 most hated chocolates\")\n",
    "plt.xlabel(\"Frequency\")\n",
    "plt.ylabel(\"Chocolates\")\n",
    "plt.show()"
   ]
  },
  {
   "cell_type": "code",
   "execution_count": null,
   "metadata": {},
   "outputs": [],
   "source": []
  }
 ],
 "metadata": {
  "kernelspec": {
   "display_name": "base",
   "language": "python",
   "name": "python3"
  },
  "language_info": {
   "codemirror_mode": {
    "name": "ipython",
    "version": 3
   },
   "file_extension": ".py",
   "mimetype": "text/x-python",
   "name": "python",
   "nbconvert_exporter": "python",
   "pygments_lexer": "ipython3",
   "version": "3.11.5"
  }
 },
 "nbformat": 4,
 "nbformat_minor": 2
}
